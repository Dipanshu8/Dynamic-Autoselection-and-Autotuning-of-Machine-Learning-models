{
 "cells": [
  {
   "cell_type": "code",
   "execution_count": 9,
   "metadata": {
    "colab": {},
    "colab_type": "code",
    "id": "mQdopifpc1Pk"
   },
   "outputs": [
    {
     "ename": "ModuleNotFoundError",
     "evalue": "No module named 'keras'",
     "output_type": "error",
     "traceback": [
      "\u001b[1;31m---------------------------------------------------------------------------\u001b[0m",
      "\u001b[1;31mModuleNotFoundError\u001b[0m                       Traceback (most recent call last)",
      "\u001b[1;32m<ipython-input-9-74a0d2092cef>\u001b[0m in \u001b[0;36m<module>\u001b[1;34m\u001b[0m\n\u001b[0;32m     15\u001b[0m \u001b[1;32mfrom\u001b[0m \u001b[0msklearn\u001b[0m\u001b[1;33m.\u001b[0m\u001b[0mneural_network\u001b[0m \u001b[1;32mimport\u001b[0m \u001b[0mMLPClassifier\u001b[0m\u001b[1;33m\u001b[0m\u001b[1;33m\u001b[0m\u001b[0m\n\u001b[0;32m     16\u001b[0m \u001b[1;32mimport\u001b[0m \u001b[0mseaborn\u001b[0m \u001b[1;32mas\u001b[0m \u001b[0msns\u001b[0m\u001b[1;33m\u001b[0m\u001b[1;33m\u001b[0m\u001b[0m\n\u001b[1;32m---> 17\u001b[1;33m \u001b[1;32mfrom\u001b[0m \u001b[0mkeras\u001b[0m\u001b[1;33m.\u001b[0m\u001b[0mmodels\u001b[0m \u001b[1;32mimport\u001b[0m \u001b[0mSequential\u001b[0m\u001b[1;33m,\u001b[0m\u001b[0mload_model\u001b[0m\u001b[1;33m\u001b[0m\u001b[1;33m\u001b[0m\u001b[0m\n\u001b[0m\u001b[0;32m     18\u001b[0m \u001b[1;32mfrom\u001b[0m \u001b[0msklearn\u001b[0m\u001b[1;33m.\u001b[0m\u001b[0mcluster\u001b[0m \u001b[1;32mimport\u001b[0m \u001b[0mKMeans\u001b[0m\u001b[1;33m\u001b[0m\u001b[1;33m\u001b[0m\u001b[0m\n\u001b[0;32m     19\u001b[0m \u001b[1;32mfrom\u001b[0m \u001b[0mkeras\u001b[0m\u001b[1;33m.\u001b[0m\u001b[0mlayers\u001b[0m \u001b[1;32mimport\u001b[0m \u001b[0mDense\u001b[0m\u001b[1;33m,\u001b[0m\u001b[0mSoftmax\u001b[0m\u001b[1;33m\u001b[0m\u001b[1;33m\u001b[0m\u001b[0m\n",
      "\u001b[1;31mModuleNotFoundError\u001b[0m: No module named 'keras'"
     ]
    }
   ],
   "source": [
    "import pandas as pd\n",
    "import matplotlib.pyplot as plt\n",
    "import numpy as np\n",
    "from sklearn.model_selection import train_test_split\n",
    "from sklearn.preprocessing import StandardScaler\n",
    "from sklearn.svm import SVC\n",
    "from sklearn.preprocessing import LabelEncoder\n",
    "from sklearn.metrics import accuracy_score,confusion_matrix\n",
    "from sklearn.metrics import accuracy_score\n",
    "from sklearn.neighbors import KNeighborsClassifier\n",
    "from sklearn.naive_bayes import GaussianNB\n",
    "from sklearn.ensemble import RandomForestClassifier,GradientBoostingClassifier\n",
    "from sklearn.multiclass import OneVsRestClassifier\n",
    "from sklearn.tree import DecisionTreeClassifier\n",
    "from sklearn.neural_network import MLPClassifier\n",
    "import seaborn as sns\n",
    "from keras.models import Sequential,load_model\n",
    "from sklearn.cluster import KMeans\n",
    "from keras.layers import Dense,Softmax\n",
    "from keras.utils import to_categorical\n",
    "import pickle\n",
    "import h5py"
   ]
  },
  {
   "cell_type": "code",
   "execution_count": 13,
   "metadata": {
    "colab": {},
    "colab_type": "code",
    "id": "bYRKvpGmc1Pu"
   },
   "outputs": [
    {
     "ename": "ParserError",
     "evalue": "Error tokenizing data. C error: Expected 1 fields in line 6, saw 2\n",
     "output_type": "error",
     "traceback": [
      "\u001b[1;31m---------------------------------------------------------------------------\u001b[0m",
      "\u001b[1;31mParserError\u001b[0m                               Traceback (most recent call last)",
      "\u001b[1;32m<ipython-input-13-a56192443c65>\u001b[0m in \u001b[0;36m<module>\u001b[1;34m\u001b[0m\n\u001b[1;32m----> 1\u001b[1;33m \u001b[0mtrain_data\u001b[0m\u001b[1;33m=\u001b[0m\u001b[0mpd\u001b[0m\u001b[1;33m.\u001b[0m\u001b[0mread_csv\u001b[0m\u001b[1;33m(\u001b[0m\u001b[1;34mr'cloud_train.csv'\u001b[0m\u001b[1;33m)\u001b[0m\u001b[1;33m\u001b[0m\u001b[1;33m\u001b[0m\u001b[0m\n\u001b[0m\u001b[0;32m      2\u001b[0m \u001b[0mtrain_data\u001b[0m\u001b[1;33m=\u001b[0m\u001b[0mtrain_data\u001b[0m\u001b[1;33m.\u001b[0m\u001b[0msample\u001b[0m\u001b[1;33m(\u001b[0m\u001b[0mn\u001b[0m\u001b[1;33m=\u001b[0m\u001b[1;36m1000\u001b[0m\u001b[1;33m)\u001b[0m\u001b[1;33m\u001b[0m\u001b[1;33m\u001b[0m\u001b[0m\n",
      "\u001b[1;32m~\\anaconda3\\lib\\site-packages\\pandas\\io\\parsers.py\u001b[0m in \u001b[0;36mparser_f\u001b[1;34m(filepath_or_buffer, sep, delimiter, header, names, index_col, usecols, squeeze, prefix, mangle_dupe_cols, dtype, engine, converters, true_values, false_values, skipinitialspace, skiprows, skipfooter, nrows, na_values, keep_default_na, na_filter, verbose, skip_blank_lines, parse_dates, infer_datetime_format, keep_date_col, date_parser, dayfirst, cache_dates, iterator, chunksize, compression, thousands, decimal, lineterminator, quotechar, quoting, doublequote, escapechar, comment, encoding, dialect, error_bad_lines, warn_bad_lines, delim_whitespace, low_memory, memory_map, float_precision)\u001b[0m\n\u001b[0;32m    674\u001b[0m         )\n\u001b[0;32m    675\u001b[0m \u001b[1;33m\u001b[0m\u001b[0m\n\u001b[1;32m--> 676\u001b[1;33m         \u001b[1;32mreturn\u001b[0m \u001b[0m_read\u001b[0m\u001b[1;33m(\u001b[0m\u001b[0mfilepath_or_buffer\u001b[0m\u001b[1;33m,\u001b[0m \u001b[0mkwds\u001b[0m\u001b[1;33m)\u001b[0m\u001b[1;33m\u001b[0m\u001b[1;33m\u001b[0m\u001b[0m\n\u001b[0m\u001b[0;32m    677\u001b[0m \u001b[1;33m\u001b[0m\u001b[0m\n\u001b[0;32m    678\u001b[0m     \u001b[0mparser_f\u001b[0m\u001b[1;33m.\u001b[0m\u001b[0m__name__\u001b[0m \u001b[1;33m=\u001b[0m \u001b[0mname\u001b[0m\u001b[1;33m\u001b[0m\u001b[1;33m\u001b[0m\u001b[0m\n",
      "\u001b[1;32m~\\anaconda3\\lib\\site-packages\\pandas\\io\\parsers.py\u001b[0m in \u001b[0;36m_read\u001b[1;34m(filepath_or_buffer, kwds)\u001b[0m\n\u001b[0;32m    452\u001b[0m \u001b[1;33m\u001b[0m\u001b[0m\n\u001b[0;32m    453\u001b[0m     \u001b[1;32mtry\u001b[0m\u001b[1;33m:\u001b[0m\u001b[1;33m\u001b[0m\u001b[1;33m\u001b[0m\u001b[0m\n\u001b[1;32m--> 454\u001b[1;33m         \u001b[0mdata\u001b[0m \u001b[1;33m=\u001b[0m \u001b[0mparser\u001b[0m\u001b[1;33m.\u001b[0m\u001b[0mread\u001b[0m\u001b[1;33m(\u001b[0m\u001b[0mnrows\u001b[0m\u001b[1;33m)\u001b[0m\u001b[1;33m\u001b[0m\u001b[1;33m\u001b[0m\u001b[0m\n\u001b[0m\u001b[0;32m    455\u001b[0m     \u001b[1;32mfinally\u001b[0m\u001b[1;33m:\u001b[0m\u001b[1;33m\u001b[0m\u001b[1;33m\u001b[0m\u001b[0m\n\u001b[0;32m    456\u001b[0m         \u001b[0mparser\u001b[0m\u001b[1;33m.\u001b[0m\u001b[0mclose\u001b[0m\u001b[1;33m(\u001b[0m\u001b[1;33m)\u001b[0m\u001b[1;33m\u001b[0m\u001b[1;33m\u001b[0m\u001b[0m\n",
      "\u001b[1;32m~\\anaconda3\\lib\\site-packages\\pandas\\io\\parsers.py\u001b[0m in \u001b[0;36mread\u001b[1;34m(self, nrows)\u001b[0m\n\u001b[0;32m   1131\u001b[0m     \u001b[1;32mdef\u001b[0m \u001b[0mread\u001b[0m\u001b[1;33m(\u001b[0m\u001b[0mself\u001b[0m\u001b[1;33m,\u001b[0m \u001b[0mnrows\u001b[0m\u001b[1;33m=\u001b[0m\u001b[1;32mNone\u001b[0m\u001b[1;33m)\u001b[0m\u001b[1;33m:\u001b[0m\u001b[1;33m\u001b[0m\u001b[1;33m\u001b[0m\u001b[0m\n\u001b[0;32m   1132\u001b[0m         \u001b[0mnrows\u001b[0m \u001b[1;33m=\u001b[0m \u001b[0m_validate_integer\u001b[0m\u001b[1;33m(\u001b[0m\u001b[1;34m\"nrows\"\u001b[0m\u001b[1;33m,\u001b[0m \u001b[0mnrows\u001b[0m\u001b[1;33m)\u001b[0m\u001b[1;33m\u001b[0m\u001b[1;33m\u001b[0m\u001b[0m\n\u001b[1;32m-> 1133\u001b[1;33m         \u001b[0mret\u001b[0m \u001b[1;33m=\u001b[0m \u001b[0mself\u001b[0m\u001b[1;33m.\u001b[0m\u001b[0m_engine\u001b[0m\u001b[1;33m.\u001b[0m\u001b[0mread\u001b[0m\u001b[1;33m(\u001b[0m\u001b[0mnrows\u001b[0m\u001b[1;33m)\u001b[0m\u001b[1;33m\u001b[0m\u001b[1;33m\u001b[0m\u001b[0m\n\u001b[0m\u001b[0;32m   1134\u001b[0m \u001b[1;33m\u001b[0m\u001b[0m\n\u001b[0;32m   1135\u001b[0m         \u001b[1;31m# May alter columns / col_dict\u001b[0m\u001b[1;33m\u001b[0m\u001b[1;33m\u001b[0m\u001b[1;33m\u001b[0m\u001b[0m\n",
      "\u001b[1;32m~\\anaconda3\\lib\\site-packages\\pandas\\io\\parsers.py\u001b[0m in \u001b[0;36mread\u001b[1;34m(self, nrows)\u001b[0m\n\u001b[0;32m   2035\u001b[0m     \u001b[1;32mdef\u001b[0m \u001b[0mread\u001b[0m\u001b[1;33m(\u001b[0m\u001b[0mself\u001b[0m\u001b[1;33m,\u001b[0m \u001b[0mnrows\u001b[0m\u001b[1;33m=\u001b[0m\u001b[1;32mNone\u001b[0m\u001b[1;33m)\u001b[0m\u001b[1;33m:\u001b[0m\u001b[1;33m\u001b[0m\u001b[1;33m\u001b[0m\u001b[0m\n\u001b[0;32m   2036\u001b[0m         \u001b[1;32mtry\u001b[0m\u001b[1;33m:\u001b[0m\u001b[1;33m\u001b[0m\u001b[1;33m\u001b[0m\u001b[0m\n\u001b[1;32m-> 2037\u001b[1;33m             \u001b[0mdata\u001b[0m \u001b[1;33m=\u001b[0m \u001b[0mself\u001b[0m\u001b[1;33m.\u001b[0m\u001b[0m_reader\u001b[0m\u001b[1;33m.\u001b[0m\u001b[0mread\u001b[0m\u001b[1;33m(\u001b[0m\u001b[0mnrows\u001b[0m\u001b[1;33m)\u001b[0m\u001b[1;33m\u001b[0m\u001b[1;33m\u001b[0m\u001b[0m\n\u001b[0m\u001b[0;32m   2038\u001b[0m         \u001b[1;32mexcept\u001b[0m \u001b[0mStopIteration\u001b[0m\u001b[1;33m:\u001b[0m\u001b[1;33m\u001b[0m\u001b[1;33m\u001b[0m\u001b[0m\n\u001b[0;32m   2039\u001b[0m             \u001b[1;32mif\u001b[0m \u001b[0mself\u001b[0m\u001b[1;33m.\u001b[0m\u001b[0m_first_chunk\u001b[0m\u001b[1;33m:\u001b[0m\u001b[1;33m\u001b[0m\u001b[1;33m\u001b[0m\u001b[0m\n",
      "\u001b[1;32mpandas\\_libs\\parsers.pyx\u001b[0m in \u001b[0;36mpandas._libs.parsers.TextReader.read\u001b[1;34m()\u001b[0m\n",
      "\u001b[1;32mpandas\\_libs\\parsers.pyx\u001b[0m in \u001b[0;36mpandas._libs.parsers.TextReader._read_low_memory\u001b[1;34m()\u001b[0m\n",
      "\u001b[1;32mpandas\\_libs\\parsers.pyx\u001b[0m in \u001b[0;36mpandas._libs.parsers.TextReader._read_rows\u001b[1;34m()\u001b[0m\n",
      "\u001b[1;32mpandas\\_libs\\parsers.pyx\u001b[0m in \u001b[0;36mpandas._libs.parsers.TextReader._tokenize_rows\u001b[1;34m()\u001b[0m\n",
      "\u001b[1;32mpandas\\_libs\\parsers.pyx\u001b[0m in \u001b[0;36mpandas._libs.parsers.raise_parser_error\u001b[1;34m()\u001b[0m\n",
      "\u001b[1;31mParserError\u001b[0m: Error tokenizing data. C error: Expected 1 fields in line 6, saw 2\n"
     ]
    }
   ],
   "source": [
    "train_data=pd.read_csv(r'cloud_train.csv')\n",
    "train_data=train_data.sample(n=1000)"
   ]
  },
  {
   "cell_type": "code",
   "execution_count": 12,
   "metadata": {
    "colab": {},
    "colab_type": "code",
    "id": "pA9J9V03c1Pz"
   },
   "outputs": [
    {
     "ename": "FileNotFoundError",
     "evalue": "[Errno 2] File cloud_test.csv does not exist: 'cloud_test.csv'",
     "output_type": "error",
     "traceback": [
      "\u001b[1;31m---------------------------------------------------------------------------\u001b[0m",
      "\u001b[1;31mFileNotFoundError\u001b[0m                         Traceback (most recent call last)",
      "\u001b[1;32m<ipython-input-12-723401889f0c>\u001b[0m in \u001b[0;36m<module>\u001b[1;34m\u001b[0m\n\u001b[1;32m----> 1\u001b[1;33m \u001b[0mtest_data\u001b[0m\u001b[1;33m=\u001b[0m\u001b[0mpd\u001b[0m\u001b[1;33m.\u001b[0m\u001b[0mread_csv\u001b[0m\u001b[1;33m(\u001b[0m\u001b[1;34mr'cloud_test.csv'\u001b[0m\u001b[1;33m)\u001b[0m\u001b[1;33m\u001b[0m\u001b[1;33m\u001b[0m\u001b[0m\n\u001b[0m\u001b[0;32m      2\u001b[0m \u001b[0mtest_data\u001b[0m\u001b[1;33m=\u001b[0m\u001b[0mtest_data\u001b[0m\u001b[1;33m.\u001b[0m\u001b[0msample\u001b[0m\u001b[1;33m(\u001b[0m\u001b[0mn\u001b[0m\u001b[1;33m=\u001b[0m\u001b[1;36m1000\u001b[0m\u001b[1;33m)\u001b[0m\u001b[1;33m\u001b[0m\u001b[1;33m\u001b[0m\u001b[0m\n",
      "\u001b[1;32m~\\anaconda3\\lib\\site-packages\\pandas\\io\\parsers.py\u001b[0m in \u001b[0;36mparser_f\u001b[1;34m(filepath_or_buffer, sep, delimiter, header, names, index_col, usecols, squeeze, prefix, mangle_dupe_cols, dtype, engine, converters, true_values, false_values, skipinitialspace, skiprows, skipfooter, nrows, na_values, keep_default_na, na_filter, verbose, skip_blank_lines, parse_dates, infer_datetime_format, keep_date_col, date_parser, dayfirst, cache_dates, iterator, chunksize, compression, thousands, decimal, lineterminator, quotechar, quoting, doublequote, escapechar, comment, encoding, dialect, error_bad_lines, warn_bad_lines, delim_whitespace, low_memory, memory_map, float_precision)\u001b[0m\n\u001b[0;32m    674\u001b[0m         )\n\u001b[0;32m    675\u001b[0m \u001b[1;33m\u001b[0m\u001b[0m\n\u001b[1;32m--> 676\u001b[1;33m         \u001b[1;32mreturn\u001b[0m \u001b[0m_read\u001b[0m\u001b[1;33m(\u001b[0m\u001b[0mfilepath_or_buffer\u001b[0m\u001b[1;33m,\u001b[0m \u001b[0mkwds\u001b[0m\u001b[1;33m)\u001b[0m\u001b[1;33m\u001b[0m\u001b[1;33m\u001b[0m\u001b[0m\n\u001b[0m\u001b[0;32m    677\u001b[0m \u001b[1;33m\u001b[0m\u001b[0m\n\u001b[0;32m    678\u001b[0m     \u001b[0mparser_f\u001b[0m\u001b[1;33m.\u001b[0m\u001b[0m__name__\u001b[0m \u001b[1;33m=\u001b[0m \u001b[0mname\u001b[0m\u001b[1;33m\u001b[0m\u001b[1;33m\u001b[0m\u001b[0m\n",
      "\u001b[1;32m~\\anaconda3\\lib\\site-packages\\pandas\\io\\parsers.py\u001b[0m in \u001b[0;36m_read\u001b[1;34m(filepath_or_buffer, kwds)\u001b[0m\n\u001b[0;32m    446\u001b[0m \u001b[1;33m\u001b[0m\u001b[0m\n\u001b[0;32m    447\u001b[0m     \u001b[1;31m# Create the parser.\u001b[0m\u001b[1;33m\u001b[0m\u001b[1;33m\u001b[0m\u001b[1;33m\u001b[0m\u001b[0m\n\u001b[1;32m--> 448\u001b[1;33m     \u001b[0mparser\u001b[0m \u001b[1;33m=\u001b[0m \u001b[0mTextFileReader\u001b[0m\u001b[1;33m(\u001b[0m\u001b[0mfp_or_buf\u001b[0m\u001b[1;33m,\u001b[0m \u001b[1;33m**\u001b[0m\u001b[0mkwds\u001b[0m\u001b[1;33m)\u001b[0m\u001b[1;33m\u001b[0m\u001b[1;33m\u001b[0m\u001b[0m\n\u001b[0m\u001b[0;32m    449\u001b[0m \u001b[1;33m\u001b[0m\u001b[0m\n\u001b[0;32m    450\u001b[0m     \u001b[1;32mif\u001b[0m \u001b[0mchunksize\u001b[0m \u001b[1;32mor\u001b[0m \u001b[0miterator\u001b[0m\u001b[1;33m:\u001b[0m\u001b[1;33m\u001b[0m\u001b[1;33m\u001b[0m\u001b[0m\n",
      "\u001b[1;32m~\\anaconda3\\lib\\site-packages\\pandas\\io\\parsers.py\u001b[0m in \u001b[0;36m__init__\u001b[1;34m(self, f, engine, **kwds)\u001b[0m\n\u001b[0;32m    878\u001b[0m             \u001b[0mself\u001b[0m\u001b[1;33m.\u001b[0m\u001b[0moptions\u001b[0m\u001b[1;33m[\u001b[0m\u001b[1;34m\"has_index_names\"\u001b[0m\u001b[1;33m]\u001b[0m \u001b[1;33m=\u001b[0m \u001b[0mkwds\u001b[0m\u001b[1;33m[\u001b[0m\u001b[1;34m\"has_index_names\"\u001b[0m\u001b[1;33m]\u001b[0m\u001b[1;33m\u001b[0m\u001b[1;33m\u001b[0m\u001b[0m\n\u001b[0;32m    879\u001b[0m \u001b[1;33m\u001b[0m\u001b[0m\n\u001b[1;32m--> 880\u001b[1;33m         \u001b[0mself\u001b[0m\u001b[1;33m.\u001b[0m\u001b[0m_make_engine\u001b[0m\u001b[1;33m(\u001b[0m\u001b[0mself\u001b[0m\u001b[1;33m.\u001b[0m\u001b[0mengine\u001b[0m\u001b[1;33m)\u001b[0m\u001b[1;33m\u001b[0m\u001b[1;33m\u001b[0m\u001b[0m\n\u001b[0m\u001b[0;32m    881\u001b[0m \u001b[1;33m\u001b[0m\u001b[0m\n\u001b[0;32m    882\u001b[0m     \u001b[1;32mdef\u001b[0m \u001b[0mclose\u001b[0m\u001b[1;33m(\u001b[0m\u001b[0mself\u001b[0m\u001b[1;33m)\u001b[0m\u001b[1;33m:\u001b[0m\u001b[1;33m\u001b[0m\u001b[1;33m\u001b[0m\u001b[0m\n",
      "\u001b[1;32m~\\anaconda3\\lib\\site-packages\\pandas\\io\\parsers.py\u001b[0m in \u001b[0;36m_make_engine\u001b[1;34m(self, engine)\u001b[0m\n\u001b[0;32m   1112\u001b[0m     \u001b[1;32mdef\u001b[0m \u001b[0m_make_engine\u001b[0m\u001b[1;33m(\u001b[0m\u001b[0mself\u001b[0m\u001b[1;33m,\u001b[0m \u001b[0mengine\u001b[0m\u001b[1;33m=\u001b[0m\u001b[1;34m\"c\"\u001b[0m\u001b[1;33m)\u001b[0m\u001b[1;33m:\u001b[0m\u001b[1;33m\u001b[0m\u001b[1;33m\u001b[0m\u001b[0m\n\u001b[0;32m   1113\u001b[0m         \u001b[1;32mif\u001b[0m \u001b[0mengine\u001b[0m \u001b[1;33m==\u001b[0m \u001b[1;34m\"c\"\u001b[0m\u001b[1;33m:\u001b[0m\u001b[1;33m\u001b[0m\u001b[1;33m\u001b[0m\u001b[0m\n\u001b[1;32m-> 1114\u001b[1;33m             \u001b[0mself\u001b[0m\u001b[1;33m.\u001b[0m\u001b[0m_engine\u001b[0m \u001b[1;33m=\u001b[0m \u001b[0mCParserWrapper\u001b[0m\u001b[1;33m(\u001b[0m\u001b[0mself\u001b[0m\u001b[1;33m.\u001b[0m\u001b[0mf\u001b[0m\u001b[1;33m,\u001b[0m \u001b[1;33m**\u001b[0m\u001b[0mself\u001b[0m\u001b[1;33m.\u001b[0m\u001b[0moptions\u001b[0m\u001b[1;33m)\u001b[0m\u001b[1;33m\u001b[0m\u001b[1;33m\u001b[0m\u001b[0m\n\u001b[0m\u001b[0;32m   1115\u001b[0m         \u001b[1;32melse\u001b[0m\u001b[1;33m:\u001b[0m\u001b[1;33m\u001b[0m\u001b[1;33m\u001b[0m\u001b[0m\n\u001b[0;32m   1116\u001b[0m             \u001b[1;32mif\u001b[0m \u001b[0mengine\u001b[0m \u001b[1;33m==\u001b[0m \u001b[1;34m\"python\"\u001b[0m\u001b[1;33m:\u001b[0m\u001b[1;33m\u001b[0m\u001b[1;33m\u001b[0m\u001b[0m\n",
      "\u001b[1;32m~\\anaconda3\\lib\\site-packages\\pandas\\io\\parsers.py\u001b[0m in \u001b[0;36m__init__\u001b[1;34m(self, src, **kwds)\u001b[0m\n\u001b[0;32m   1889\u001b[0m         \u001b[0mkwds\u001b[0m\u001b[1;33m[\u001b[0m\u001b[1;34m\"usecols\"\u001b[0m\u001b[1;33m]\u001b[0m \u001b[1;33m=\u001b[0m \u001b[0mself\u001b[0m\u001b[1;33m.\u001b[0m\u001b[0musecols\u001b[0m\u001b[1;33m\u001b[0m\u001b[1;33m\u001b[0m\u001b[0m\n\u001b[0;32m   1890\u001b[0m \u001b[1;33m\u001b[0m\u001b[0m\n\u001b[1;32m-> 1891\u001b[1;33m         \u001b[0mself\u001b[0m\u001b[1;33m.\u001b[0m\u001b[0m_reader\u001b[0m \u001b[1;33m=\u001b[0m \u001b[0mparsers\u001b[0m\u001b[1;33m.\u001b[0m\u001b[0mTextReader\u001b[0m\u001b[1;33m(\u001b[0m\u001b[0msrc\u001b[0m\u001b[1;33m,\u001b[0m \u001b[1;33m**\u001b[0m\u001b[0mkwds\u001b[0m\u001b[1;33m)\u001b[0m\u001b[1;33m\u001b[0m\u001b[1;33m\u001b[0m\u001b[0m\n\u001b[0m\u001b[0;32m   1892\u001b[0m         \u001b[0mself\u001b[0m\u001b[1;33m.\u001b[0m\u001b[0munnamed_cols\u001b[0m \u001b[1;33m=\u001b[0m \u001b[0mself\u001b[0m\u001b[1;33m.\u001b[0m\u001b[0m_reader\u001b[0m\u001b[1;33m.\u001b[0m\u001b[0munnamed_cols\u001b[0m\u001b[1;33m\u001b[0m\u001b[1;33m\u001b[0m\u001b[0m\n\u001b[0;32m   1893\u001b[0m \u001b[1;33m\u001b[0m\u001b[0m\n",
      "\u001b[1;32mpandas\\_libs\\parsers.pyx\u001b[0m in \u001b[0;36mpandas._libs.parsers.TextReader.__cinit__\u001b[1;34m()\u001b[0m\n",
      "\u001b[1;32mpandas\\_libs\\parsers.pyx\u001b[0m in \u001b[0;36mpandas._libs.parsers.TextReader._setup_parser_source\u001b[1;34m()\u001b[0m\n",
      "\u001b[1;31mFileNotFoundError\u001b[0m: [Errno 2] File cloud_test.csv does not exist: 'cloud_test.csv'"
     ]
    }
   ],
   "source": [
    "test_data=pd.read_csv(r'cloud_test.csv')\n",
    "test_data=test_data.sample(n=1000)"
   ]
  },
  {
   "cell_type": "code",
   "execution_count": 11,
   "metadata": {
    "colab": {
     "base_uri": "https://localhost:8080/",
     "height": 232
    },
    "colab_type": "code",
    "id": "0tJvWBMnc1P4",
    "outputId": "fef15bc5-6ad6-432a-c7bc-088ab335b3bc"
   },
   "outputs": [
    {
     "ename": "NameError",
     "evalue": "name 'train_data' is not defined",
     "output_type": "error",
     "traceback": [
      "\u001b[1;31m---------------------------------------------------------------------------\u001b[0m",
      "\u001b[1;31mNameError\u001b[0m                                 Traceback (most recent call last)",
      "\u001b[1;32m<ipython-input-11-c4dda1b59424>\u001b[0m in \u001b[0;36m<module>\u001b[1;34m\u001b[0m\n\u001b[1;32m----> 1\u001b[1;33m \u001b[0mtrain_data\u001b[0m\u001b[1;33m.\u001b[0m\u001b[0mhead\u001b[0m\u001b[1;33m(\u001b[0m\u001b[1;33m)\u001b[0m\u001b[1;33m\u001b[0m\u001b[1;33m\u001b[0m\u001b[0m\n\u001b[0m",
      "\u001b[1;31mNameError\u001b[0m: name 'train_data' is not defined"
     ]
    }
   ],
   "source": [
    "train_data.head()"
   ]
  },
  {
   "cell_type": "code",
   "execution_count": 10,
   "metadata": {
    "colab": {
     "base_uri": "https://localhost:8080/",
     "height": 34
    },
    "colab_type": "code",
    "id": "tBlImwPDc1P8",
    "outputId": "454baa2a-1a54-40e9-a2f6-1d90bf281084"
   },
   "outputs": [
    {
     "ename": "NameError",
     "evalue": "name 'train_data' is not defined",
     "output_type": "error",
     "traceback": [
      "\u001b[1;31m---------------------------------------------------------------------------\u001b[0m",
      "\u001b[1;31mNameError\u001b[0m                                 Traceback (most recent call last)",
      "\u001b[1;32m<ipython-input-10-8852729f0f48>\u001b[0m in \u001b[0;36m<module>\u001b[1;34m\u001b[0m\n\u001b[1;32m----> 1\u001b[1;33m \u001b[0mtrain_data\u001b[0m\u001b[1;33m.\u001b[0m\u001b[0mshape\u001b[0m\u001b[1;33m\u001b[0m\u001b[1;33m\u001b[0m\u001b[0m\n\u001b[0m",
      "\u001b[1;31mNameError\u001b[0m: name 'train_data' is not defined"
     ]
    }
   ],
   "source": [
    "train_data.shape"
   ]
  },
  {
   "cell_type": "code",
   "execution_count": 7,
   "metadata": {
    "colab": {
     "base_uri": "https://localhost:8080/",
     "height": 790
    },
    "colab_type": "code",
    "id": "lBzRV0rYc1QA",
    "outputId": "d337ee6f-376d-44ea-b956-90edaa870100"
   },
   "outputs": [
    {
     "data": {
      "text/plain": [
       "id                   0\n",
       "dur                  0\n",
       "proto                0\n",
       "service              0\n",
       "state                0\n",
       "spkts                0\n",
       "dpkts                0\n",
       "sbytes               0\n",
       "dbytes               0\n",
       "rate                 0\n",
       "sttl                 0\n",
       "dttl                 0\n",
       "sload                0\n",
       "dload                0\n",
       "sloss                0\n",
       "dloss                0\n",
       "sinpkt               0\n",
       "dinpkt               0\n",
       "sjit                 0\n",
       "djit                 0\n",
       "swin                 0\n",
       "stcpb                0\n",
       "dtcpb                0\n",
       "dwin                 0\n",
       "tcprtt               0\n",
       "synack               0\n",
       "ackdat               0\n",
       "smean                0\n",
       "dmean                0\n",
       "trans_depth          0\n",
       "response_body_len    0\n",
       "ct_srv_src           0\n",
       "ct_state_ttl         0\n",
       "ct_dst_ltm           0\n",
       "ct_src_dport_ltm     0\n",
       "ct_dst_sport_ltm     0\n",
       "ct_dst_src_ltm       0\n",
       "is_ftp_login         0\n",
       "ct_ftp_cmd           0\n",
       "ct_flw_http_mthd     0\n",
       "ct_src_ltm           0\n",
       "ct_srv_dst           0\n",
       "is_sm_ips_ports      0\n",
       "attack_cat           0\n",
       "label                0\n",
       "dtype: int64"
      ]
     },
     "execution_count": 7,
     "metadata": {
      "tags": []
     },
     "output_type": "execute_result"
    }
   ],
   "source": [
    "train_data.isnull().sum()"
   ]
  },
  {
   "cell_type": "code",
   "execution_count": 8,
   "metadata": {
    "colab": {
     "base_uri": "https://localhost:8080/",
     "height": 371
    },
    "colab_type": "code",
    "id": "6yXdZoPcc1QF",
    "outputId": "e8e85d2e-b7b7-4d87-c86b-da61823b1aae"
   },
   "outputs": [
    {
     "data": {
      "text/plain": [
       "<matplotlib.axes._subplots.AxesSubplot at 0x7fc6b98c00b8>"
      ]
     },
     "execution_count": 8,
     "metadata": {
      "tags": []
     },
     "output_type": "execute_result"
    },
    {
     "data": {
      "image/png": "[encoded data removed]",
      "text/plain": [
       "<Figure size 1440x720 with 1 Axes>"
      ]
     },
     "metadata": {
      "needs_background": "light",
      "tags": []
     },
     "output_type": "display_data"
    }
   ],
   "source": [
    "plt.figure(figsize=(20,10))\n",
    "sns.countplot(train_data['attack_cat'])"
   ]
  },
  {
   "cell_type": "code",
   "execution_count": 9,
   "metadata": {
    "colab": {
     "base_uri": "https://localhost:8080/",
     "height": 50
    },
    "colab_type": "code",
    "id": "zEwYpSASc1QK",
    "outputId": "51c723da-d964-4a9e-e91b-316eb69cdb87"
   },
   "outputs": [
    {
     "data": {
      "text/plain": [
       "array(['Analysis', 'Backdoor', 'DoS', 'Exploits', 'Fuzzers', 'Generic',\n",
       "       'Normal', 'Reconnaissance', 'Shellcode'], dtype=object)"
      ]
     },
     "execution_count": 9,
     "metadata": {
      "tags": []
     },
     "output_type": "execute_result"
    }
   ],
   "source": [
    "attack_type=np.unique(train_data['attack_cat'].values)\n",
    "attack_type"
   ]
  },
  {
   "cell_type": "code",
   "execution_count": 0,
   "metadata": {
    "colab": {},
    "colab_type": "code",
    "id": "TvX5adkEc1QP",
    "outputId": "be4ff25e-ca3c-4cd7-c6a4-9dde0589ff92"
   },
   "outputs": [
    {
     "data": {
      "text/plain": [
       "\"\\nsample_size=10000\\nnorm_percent=20\\ntrain_normal=train_data[train_data['attack_cat']=='Normal'].sample(n=int(np.ceil(norm_percent*sample_size/100)))\\ntrain_data1=train_data[train_data['attack_cat']!='Normal'].sample(n=10000)\\nTrain_data=pd.concat([train_normal,train_data1])\\n\""
      ]
     },
     "execution_count": 60,
     "metadata": {
      "tags": []
     },
     "output_type": "execute_result"
    }
   ],
   "source": [
    "'''\n",
    "sample_size=10000\n",
    "norm_percent=20\n",
    "train_normal=train_data[train_data['attack_cat']=='Normal'].sample(n=int(np.ceil(norm_percent*sample_size/100)))\n",
    "train_data1=train_data[train_data['attack_cat']!='Normal'].sample(n=10000)\n",
    "Train_data=pd.concat([train_normal,train_data1])\n",
    "'''"
   ]
  },
  {
   "cell_type": "code",
   "execution_count": 10,
   "metadata": {
    "colab": {
     "base_uri": "https://localhost:8080/",
     "height": 34
    },
    "colab_type": "code",
    "id": "8pGDiB43c1QT",
    "outputId": "22dc0722-91dc-4b5c-b17f-56c926d590a6"
   },
   "outputs": [
    {
     "data": {
      "text/plain": [
       "(1000, 45)"
      ]
     },
     "execution_count": 10,
     "metadata": {
      "tags": []
     },
     "output_type": "execute_result"
    }
   ],
   "source": [
    "train_data.shape"
   ]
  },
  {
   "cell_type": "code",
   "execution_count": 11,
   "metadata": {
    "colab": {
     "base_uri": "https://localhost:8080/",
     "height": 371
    },
    "colab_type": "code",
    "id": "BywCy6wSc1QY",
    "outputId": "4176cc9a-5eca-4f95-c957-2e6d997a3ceb"
   },
   "outputs": [
    {
     "data": {
      "text/plain": [
       "<matplotlib.axes._subplots.AxesSubplot at 0x7fc6b98c2160>"
      ]
     },
     "execution_count": 11,
     "metadata": {
      "tags": []
     },
     "output_type": "execute_result"
    },
    {
     "data": {
      "image/png": "[encoded data removed]",
      "text/plain": [
       "<Figure size 1440x720 with 1 Axes>"
      ]
     },
     "metadata": {
      "needs_background": "light",
      "tags": []
     },
     "output_type": "display_data"
    }
   ],
   "source": [
    "plt.figure(figsize=(20,10))\n",
    "sns.countplot(test_data['attack_cat'])"
   ]
  },
  {
   "cell_type": "code",
   "execution_count": 0,
   "metadata": {
    "colab": {},
    "colab_type": "code",
    "id": "v-0nN31qr8YX"
   },
   "outputs": [],
   "source": [
    "cols=np.unique(test_data['attack_cat'].values)\n"
   ]
  },
  {
   "cell_type": "code",
   "execution_count": 13,
   "metadata": {
    "colab": {
     "base_uri": "https://localhost:8080/",
     "height": 50
    },
    "colab_type": "code",
    "id": "ZhfZrw5gNaWe",
    "outputId": "4502056c-259f-44d5-96ba-4547f9122f35"
   },
   "outputs": [
    {
     "data": {
      "text/plain": [
       "array(['Analysis', 'Backdoor', 'DoS', 'Exploits', 'Fuzzers', 'Generic',\n",
       "       'Normal', 'Reconnaissance', 'Shellcode', 'Worms'], dtype=object)"
      ]
     },
     "execution_count": 13,
     "metadata": {
      "tags": []
     },
     "output_type": "execute_result"
    }
   ],
   "source": [
    "cols"
   ]
  },
  {
   "cell_type": "code",
   "execution_count": 0,
   "metadata": {
    "colab": {},
    "colab_type": "code",
    "id": "qcQZTnSQc1Qc"
   },
   "outputs": [],
   "source": [
    "label_encoder=LabelEncoder()\n",
    "def label_encoding(data):\n",
    "    columns=data.columns\n",
    "    for cols in columns:\n",
    "       # print(cols)\n",
    "        if(isinstance(data[cols].values[0],str)):\n",
    "            data[cols]=label_encoder.fit_transform(data[cols].values)\n",
    "    return data"
   ]
  },
  {
   "cell_type": "code",
   "execution_count": 0,
   "metadata": {
    "colab": {},
    "colab_type": "code",
    "id": "-PpoGfDXc1Qi"
   },
   "outputs": [],
   "source": [
    "train=label_encoding(train_data)\n",
    "test=label_encoding(test_data)\n",
    "X_train=train.drop(['attack_cat','label'],axis=1)\n",
    "X_test=test.drop(['attack_cat','label'],axis=1)\n",
    "Y_train=train['attack_cat'].apply(lambda x:int(x))\n",
    "Y_test=test['attack_cat'].apply(lambda x:int(x))"
   ]
  },
  {
   "cell_type": "code",
   "execution_count": 0,
   "metadata": {
    "colab": {},
    "colab_type": "code",
    "id": "G77JU4CFc1Ql"
   },
   "outputs": [],
   "source": [
    "scaler=StandardScaler()\n",
    "x_train=scaler.fit_transform(X_train)\n",
    "x_test=scaler.fit_transform(X_test)"
   ]
  },
  {
   "cell_type": "code",
   "execution_count": 17,
   "metadata": {
    "colab": {
     "base_uri": "https://localhost:8080/",
     "height": 215
    },
    "colab_type": "code",
    "id": "brd-NAVQc1Qp",
    "outputId": "e7eaae1c-cc59-49c4-f1c9-90d1c39fd4fd"
   },
   "outputs": [
    {
     "data": {
      "text/html": [
       "<div>\n",
       "<style scoped>\n",
       "    .dataframe tbody tr th:only-of-type {\n",
       "        vertical-align: middle;\n",
       "    }\n",
       "\n",
       "    .dataframe tbody tr th {\n",
       "        vertical-align: top;\n",
       "    }\n",
       "\n",
       "    .dataframe thead th {\n",
       "        text-align: right;\n",
       "    }\n",
       "</style>\n",
       "<table border=\"1\" class=\"dataframe\">\n",
       "  <thead>\n",
       "    <tr style=\"text-align: right;\">\n",
       "      <th></th>\n",
       "      <th>0</th>\n",
       "      <th>1</th>\n",
       "      <th>2</th>\n",
       "      <th>3</th>\n",
       "      <th>4</th>\n",
       "      <th>5</th>\n",
       "      <th>6</th>\n",
       "      <th>7</th>\n",
       "      <th>8</th>\n",
       "      <th>9</th>\n",
       "      <th>10</th>\n",
       "      <th>11</th>\n",
       "      <th>12</th>\n",
       "      <th>13</th>\n",
       "      <th>14</th>\n",
       "      <th>15</th>\n",
       "      <th>16</th>\n",
       "      <th>17</th>\n",
       "      <th>18</th>\n",
       "      <th>19</th>\n",
       "      <th>20</th>\n",
       "      <th>21</th>\n",
       "      <th>22</th>\n",
       "      <th>23</th>\n",
       "      <th>24</th>\n",
       "      <th>25</th>\n",
       "      <th>26</th>\n",
       "      <th>27</th>\n",
       "      <th>28</th>\n",
       "      <th>29</th>\n",
       "      <th>30</th>\n",
       "      <th>31</th>\n",
       "      <th>32</th>\n",
       "      <th>33</th>\n",
       "      <th>34</th>\n",
       "      <th>35</th>\n",
       "      <th>36</th>\n",
       "      <th>37</th>\n",
       "      <th>38</th>\n",
       "      <th>39</th>\n",
       "      <th>40</th>\n",
       "      <th>41</th>\n",
       "      <th>42</th>\n",
       "    </tr>\n",
       "  </thead>\n",
       "  <tbody>\n",
       "    <tr>\n",
       "      <th>0</th>\n",
       "      <td>-1.676265</td>\n",
       "      <td>-0.245006</td>\n",
       "      <td>-5.694329</td>\n",
       "      <td>-0.708105</td>\n",
       "      <td>0.978334</td>\n",
       "      <td>-0.379687</td>\n",
       "      <td>-0.266384</td>\n",
       "      <td>-0.160153</td>\n",
       "      <td>-0.142403</td>\n",
       "      <td>0.806340</td>\n",
       "      <td>0.714370</td>\n",
       "      <td>-0.849644</td>\n",
       "      <td>0.689113</td>\n",
       "      <td>-0.271694</td>\n",
       "      <td>-0.325639</td>\n",
       "      <td>-0.203824</td>\n",
       "      <td>-0.117052</td>\n",
       "      <td>-0.083805</td>\n",
       "      <td>-0.126883</td>\n",
       "      <td>-0.203993</td>\n",
       "      <td>-1.092237</td>\n",
       "      <td>-0.821221</td>\n",
       "      <td>-0.827120</td>\n",
       "      <td>-1.053425</td>\n",
       "      <td>-0.667901</td>\n",
       "      <td>-0.642112</td>\n",
       "      <td>-0.641760</td>\n",
       "      <td>-0.176129</td>\n",
       "      <td>-0.488555</td>\n",
       "      <td>-0.322184</td>\n",
       "      <td>-0.050856</td>\n",
       "      <td>-0.323434</td>\n",
       "      <td>0.643821</td>\n",
       "      <td>-0.330064</td>\n",
       "      <td>-0.355772</td>\n",
       "      <td>-0.290892</td>\n",
       "      <td>-0.142679</td>\n",
       "      <td>-0.08396</td>\n",
       "      <td>-0.08396</td>\n",
       "      <td>-0.211213</td>\n",
       "      <td>-0.509634</td>\n",
       "      <td>-0.277024</td>\n",
       "      <td>-0.105463</td>\n",
       "    </tr>\n",
       "    <tr>\n",
       "      <th>1</th>\n",
       "      <td>0.617050</td>\n",
       "      <td>-0.245004</td>\n",
       "      <td>0.487799</td>\n",
       "      <td>0.294876</td>\n",
       "      <td>0.978334</td>\n",
       "      <td>-0.379687</td>\n",
       "      <td>-0.266384</td>\n",
       "      <td>-0.163762</td>\n",
       "      <td>-0.142403</td>\n",
       "      <td>0.077577</td>\n",
       "      <td>0.714370</td>\n",
       "      <td>-0.849644</td>\n",
       "      <td>-0.114441</td>\n",
       "      <td>-0.271694</td>\n",
       "      <td>-0.325639</td>\n",
       "      <td>-0.203824</td>\n",
       "      <td>-0.117051</td>\n",
       "      <td>-0.083805</td>\n",
       "      <td>-0.126883</td>\n",
       "      <td>-0.203993</td>\n",
       "      <td>-1.092237</td>\n",
       "      <td>-0.821221</td>\n",
       "      <td>-0.827120</td>\n",
       "      <td>-1.053425</td>\n",
       "      <td>-0.667901</td>\n",
       "      <td>-0.642112</td>\n",
       "      <td>-0.641760</td>\n",
       "      <td>-0.384366</td>\n",
       "      <td>-0.488555</td>\n",
       "      <td>-0.322184</td>\n",
       "      <td>-0.050856</td>\n",
       "      <td>0.199640</td>\n",
       "      <td>0.643821</td>\n",
       "      <td>-0.554673</td>\n",
       "      <td>-0.467826</td>\n",
       "      <td>-0.454039</td>\n",
       "      <td>-0.565557</td>\n",
       "      <td>-0.08396</td>\n",
       "      <td>-0.08396</td>\n",
       "      <td>-0.211213</td>\n",
       "      <td>-0.621715</td>\n",
       "      <td>0.243698</td>\n",
       "      <td>-0.105463</td>\n",
       "    </tr>\n",
       "    <tr>\n",
       "      <th>2</th>\n",
       "      <td>1.652329</td>\n",
       "      <td>-0.245004</td>\n",
       "      <td>0.046219</td>\n",
       "      <td>-0.708105</td>\n",
       "      <td>2.533713</td>\n",
       "      <td>-0.379687</td>\n",
       "      <td>-0.266384</td>\n",
       "      <td>-0.164769</td>\n",
       "      <td>-0.142403</td>\n",
       "      <td>0.212533</td>\n",
       "      <td>0.714370</td>\n",
       "      <td>-0.849644</td>\n",
       "      <td>-0.124300</td>\n",
       "      <td>-0.271694</td>\n",
       "      <td>-0.225504</td>\n",
       "      <td>-0.203824</td>\n",
       "      <td>-0.117051</td>\n",
       "      <td>-0.083805</td>\n",
       "      <td>-0.126883</td>\n",
       "      <td>-0.203993</td>\n",
       "      <td>0.915552</td>\n",
       "      <td>-0.821221</td>\n",
       "      <td>-0.827120</td>\n",
       "      <td>-1.053425</td>\n",
       "      <td>-0.667901</td>\n",
       "      <td>-0.642112</td>\n",
       "      <td>-0.641760</td>\n",
       "      <td>-0.442478</td>\n",
       "      <td>-0.488555</td>\n",
       "      <td>-0.322184</td>\n",
       "      <td>-0.050856</td>\n",
       "      <td>-0.236255</td>\n",
       "      <td>4.539861</td>\n",
       "      <td>-0.442369</td>\n",
       "      <td>-0.467826</td>\n",
       "      <td>-0.454039</td>\n",
       "      <td>-0.058103</td>\n",
       "      <td>-0.08396</td>\n",
       "      <td>-0.08396</td>\n",
       "      <td>-0.211213</td>\n",
       "      <td>-0.509634</td>\n",
       "      <td>-0.190237</td>\n",
       "      <td>-0.105463</td>\n",
       "    </tr>\n",
       "    <tr>\n",
       "      <th>3</th>\n",
       "      <td>-1.329297</td>\n",
       "      <td>0.274196</td>\n",
       "      <td>0.046219</td>\n",
       "      <td>-0.708105</td>\n",
       "      <td>-0.577046</td>\n",
       "      <td>0.257275</td>\n",
       "      <td>0.768256</td>\n",
       "      <td>-0.114330</td>\n",
       "      <td>0.655075</td>\n",
       "      <td>-0.529410</td>\n",
       "      <td>-1.186366</td>\n",
       "      <td>1.290689</td>\n",
       "      <td>-0.395399</td>\n",
       "      <td>-0.166006</td>\n",
       "      <td>0.275171</td>\n",
       "      <td>0.829260</td>\n",
       "      <td>-0.104637</td>\n",
       "      <td>-0.066531</td>\n",
       "      <td>-0.057433</td>\n",
       "      <td>0.648875</td>\n",
       "      <td>0.915552</td>\n",
       "      <td>1.413103</td>\n",
       "      <td>2.234226</td>\n",
       "      <td>0.949284</td>\n",
       "      <td>1.669893</td>\n",
       "      <td>1.089405</td>\n",
       "      <td>2.153550</td>\n",
       "      <td>-0.398894</td>\n",
       "      <td>3.711907</td>\n",
       "      <td>-0.322184</td>\n",
       "      <td>-0.050856</td>\n",
       "      <td>-0.759329</td>\n",
       "      <td>-0.330189</td>\n",
       "      <td>-0.442369</td>\n",
       "      <td>-0.467826</td>\n",
       "      <td>-0.454039</td>\n",
       "      <td>-0.565557</td>\n",
       "      <td>-0.08396</td>\n",
       "      <td>-0.08396</td>\n",
       "      <td>-0.211213</td>\n",
       "      <td>-0.621715</td>\n",
       "      <td>-0.363811</td>\n",
       "      <td>-0.105463</td>\n",
       "    </tr>\n",
       "    <tr>\n",
       "      <th>4</th>\n",
       "      <td>1.666954</td>\n",
       "      <td>-0.055562</td>\n",
       "      <td>0.046219</td>\n",
       "      <td>1.799348</td>\n",
       "      <td>-0.577046</td>\n",
       "      <td>-0.148065</td>\n",
       "      <td>-0.123675</td>\n",
       "      <td>-0.134640</td>\n",
       "      <td>-0.127678</td>\n",
       "      <td>-0.529544</td>\n",
       "      <td>-1.186366</td>\n",
       "      <td>1.290689</td>\n",
       "      <td>-0.395375</td>\n",
       "      <td>-0.266928</td>\n",
       "      <td>-0.125369</td>\n",
       "      <td>-0.127299</td>\n",
       "      <td>-0.105476</td>\n",
       "      <td>-0.037460</td>\n",
       "      <td>-0.051961</td>\n",
       "      <td>-0.156468</td>\n",
       "      <td>0.915552</td>\n",
       "      <td>1.476082</td>\n",
       "      <td>0.339836</td>\n",
       "      <td>0.949284</td>\n",
       "      <td>1.024895</td>\n",
       "      <td>1.174640</td>\n",
       "      <td>0.783351</td>\n",
       "      <td>-0.268141</td>\n",
       "      <td>0.074566</td>\n",
       "      <td>3.033899</td>\n",
       "      <td>-0.045237</td>\n",
       "      <td>-0.323434</td>\n",
       "      <td>-0.330189</td>\n",
       "      <td>-0.330064</td>\n",
       "      <td>-0.243718</td>\n",
       "      <td>-0.127744</td>\n",
       "      <td>-0.142679</td>\n",
       "      <td>-0.08396</td>\n",
       "      <td>-0.08396</td>\n",
       "      <td>14.189690</td>\n",
       "      <td>-0.397552</td>\n",
       "      <td>-0.277024</td>\n",
       "      <td>-0.105463</td>\n",
       "    </tr>\n",
       "  </tbody>\n",
       "</table>\n",
       "</div>"
      ],
      "text/plain": [
       "         0         1         2   ...        40        41        42\n",
       "0 -1.676265 -0.245006 -5.694329  ... -0.509634 -0.277024 -0.105463\n",
       "1  0.617050 -0.245004  0.487799  ... -0.621715  0.243698 -0.105463\n",
       "2  1.652329 -0.245004  0.046219  ... -0.509634 -0.190237 -0.105463\n",
       "3 -1.329297  0.274196  0.046219  ... -0.621715 -0.363811 -0.105463\n",
       "4  1.666954 -0.055562  0.046219  ... -0.397552 -0.277024 -0.105463\n",
       "\n",
       "[5 rows x 43 columns]"
      ]
     },
     "execution_count": 17,
     "metadata": {
      "tags": []
     },
     "output_type": "execute_result"
    }
   ],
   "source": [
    "pd.DataFrame(x_train).head()"
   ]
  },
  {
   "cell_type": "code",
   "execution_count": 18,
   "metadata": {
    "colab": {
     "base_uri": "https://localhost:8080/",
     "height": 34
    },
    "colab_type": "code",
    "id": "t3-2kjd7c1Qu",
    "outputId": "cd5b5a5f-a056-48e9-ab95-bc7a18d5f9f5"
   },
   "outputs": [
    {
     "name": "stdout",
     "output_type": "stream",
     "text": [
      "[0 1 2 3 4 5 6 7 8]\n"
     ]
    }
   ],
   "source": [
    "print(np.unique(Y_train))"
   ]
  },
  {
   "cell_type": "code",
   "execution_count": 19,
   "metadata": {
    "colab": {
     "base_uri": "https://localhost:8080/",
     "height": 34
    },
    "colab_type": "code",
    "id": "LK4N8Kgkc1Qy",
    "outputId": "bdcb51b0-8c23-45de-d891-749e10552e9e"
   },
   "outputs": [
    {
     "name": "stdout",
     "output_type": "stream",
     "text": [
      "(1000, 43) (1000, 43)\n"
     ]
    }
   ],
   "source": [
    "print(x_train.shape,x_test.shape)"
   ]
  },
  {
   "cell_type": "code",
   "execution_count": 20,
   "metadata": {
    "colab": {
     "base_uri": "https://localhost:8080/",
     "height": 34
    },
    "colab_type": "code",
    "id": "XEbSPwOCc1Q2",
    "outputId": "47f2eb12-8d46-4700-cc23-250da445752a"
   },
   "outputs": [
    {
     "data": {
      "text/plain": [
       "GaussianNB(priors=None, var_smoothing=1e-09)"
      ]
     },
     "execution_count": 20,
     "metadata": {
      "tags": []
     },
     "output_type": "execute_result"
    }
   ],
   "source": [
    "NB=GaussianNB()\n",
    "NB.fit(x_train,Y_train)"
   ]
  },
  {
   "cell_type": "code",
   "execution_count": 0,
   "metadata": {
    "colab": {},
    "colab_type": "code",
    "id": "ed48WkkQc1Q6"
   },
   "outputs": [],
   "source": [
    "acc_NB=NB.score(x_test,Y_test)"
   ]
  },
  {
   "cell_type": "code",
   "execution_count": 0,
   "metadata": {
    "colab": {},
    "colab_type": "code",
    "id": "3Qs4qPIYc1Q-"
   },
   "outputs": [],
   "source": [
    "cm=confusion_matrix(NB.predict(x_test),Y_test)\n",
    "acc_per_class_NB=cm.diagonal()/cm.sum(axis=0)"
   ]
  },
  {
   "cell_type": "code",
   "execution_count": 23,
   "metadata": {
    "colab": {
     "base_uri": "https://localhost:8080/",
     "height": 67
    },
    "colab_type": "code",
    "id": "uB_y2uXTc1RB",
    "outputId": "b18123dc-b762-41d6-9ae2-a2faf9ab221b"
   },
   "outputs": [
    {
     "data": {
      "text/plain": [
       "KNeighborsClassifier(algorithm='auto', leaf_size=30, metric='minkowski',\n",
       "                     metric_params=None, n_jobs=None, n_neighbors=5, p=2,\n",
       "                     weights='uniform')"
      ]
     },
     "execution_count": 23,
     "metadata": {
      "tags": []
     },
     "output_type": "execute_result"
    }
   ],
   "source": [
    "knn=KNeighborsClassifier(n_neighbors=5)\n",
    "knn.fit(x_train,Y_train)"
   ]
  },
  {
   "cell_type": "code",
   "execution_count": 0,
   "metadata": {
    "colab": {},
    "colab_type": "code",
    "id": "mEztS8HDc1RF"
   },
   "outputs": [],
   "source": [
    "acc_knn=knn.score(x_test,Y_test)"
   ]
  },
  {
   "cell_type": "code",
   "execution_count": 0,
   "metadata": {
    "colab": {},
    "colab_type": "code",
    "id": "qos0ibjIc1RJ"
   },
   "outputs": [],
   "source": [
    "cm=confusion_matrix(knn.predict(x_test),Y_test)\n",
    "acc_per_class_knn=cm.diagonal()/cm.sum(axis=0)"
   ]
  },
  {
   "cell_type": "code",
   "execution_count": 26,
   "metadata": {
    "colab": {
     "base_uri": "https://localhost:8080/",
     "height": 151
    },
    "colab_type": "code",
    "id": "yTeg2fOZc1RM",
    "outputId": "09b46e1a-72ed-46e8-cdc5-cc71c166b95d"
   },
   "outputs": [
    {
     "data": {
      "text/plain": [
       "RandomForestClassifier(bootstrap=True, ccp_alpha=0.0, class_weight=None,\n",
       "                       criterion='gini', max_depth=None, max_features='auto',\n",
       "                       max_leaf_nodes=None, max_samples=None,\n",
       "                       min_impurity_decrease=0.0, min_impurity_split=None,\n",
       "                       min_samples_leaf=1, min_samples_split=2,\n",
       "                       min_weight_fraction_leaf=0.0, n_estimators=200,\n",
       "                       n_jobs=None, oob_score=False, random_state=None,\n",
       "                       verbose=0, warm_start=False)"
      ]
     },
     "execution_count": 26,
     "metadata": {
      "tags": []
     },
     "output_type": "execute_result"
    }
   ],
   "source": [
    "rf=RandomForestClassifier(n_estimators=200)\n",
    "rf.fit(x_train,Y_train)"
   ]
  },
  {
   "cell_type": "code",
   "execution_count": 0,
   "metadata": {
    "colab": {},
    "colab_type": "code",
    "id": "cfIVhFNKc1RQ"
   },
   "outputs": [],
   "source": [
    "acc_rf=rf.score(x_test,Y_test)"
   ]
  },
  {
   "cell_type": "code",
   "execution_count": 0,
   "metadata": {
    "colab": {},
    "colab_type": "code",
    "id": "ofbX9JkSc1RT"
   },
   "outputs": [],
   "source": [
    "cm=confusion_matrix(rf.predict(x_test),Y_test)\n",
    "acc_per_class_rf=cm.diagonal()/cm.sum(axis=0)"
   ]
  },
  {
   "cell_type": "code",
   "execution_count": 29,
   "metadata": {
    "colab": {
     "base_uri": "https://localhost:8080/",
     "height": 118
    },
    "colab_type": "code",
    "id": "uBqXpyldc1RX",
    "outputId": "45133476-cad8-4b9f-d269-9a540d079c75"
   },
   "outputs": [
    {
     "data": {
      "text/plain": [
       "DecisionTreeClassifier(ccp_alpha=0.0, class_weight=None, criterion='gini',\n",
       "                       max_depth=None, max_features=None, max_leaf_nodes=None,\n",
       "                       min_impurity_decrease=0.0, min_impurity_split=None,\n",
       "                       min_samples_leaf=1, min_samples_split=2,\n",
       "                       min_weight_fraction_leaf=0.0, presort='deprecated',\n",
       "                       random_state=None, splitter='best')"
      ]
     },
     "execution_count": 29,
     "metadata": {
      "tags": []
     },
     "output_type": "execute_result"
    }
   ],
   "source": [
    "dt=DecisionTreeClassifier()\n",
    "dt.fit(x_train,Y_train)"
   ]
  },
  {
   "cell_type": "code",
   "execution_count": 0,
   "metadata": {
    "colab": {},
    "colab_type": "code",
    "id": "bAKXjEGVc1Rb"
   },
   "outputs": [],
   "source": [
    "acc_dt=dt.score(x_test,Y_test)"
   ]
  },
  {
   "cell_type": "code",
   "execution_count": 0,
   "metadata": {
    "colab": {},
    "colab_type": "code",
    "id": "hegglkNzc1Rf"
   },
   "outputs": [],
   "source": [
    "cm=confusion_matrix(dt.predict(x_test),Y_test)\n",
    "acc_per_class_dt=cm.diagonal()/cm.sum(axis=0)"
   ]
  },
  {
   "cell_type": "code",
   "execution_count": 32,
   "metadata": {
    "colab": {
     "base_uri": "https://localhost:8080/",
     "height": 205
    },
    "colab_type": "code",
    "id": "b3POEv90c1Ri",
    "outputId": "af23895b-b1df-4a78-96f6-73a756537ed1"
   },
   "outputs": [
    {
     "name": "stderr",
     "output_type": "stream",
     "text": [
      "/usr/local/lib/python3.6/dist-packages/sklearn/neural_network/_multilayer_perceptron.py:571: ConvergenceWarning: Stochastic Optimizer: Maximum iterations (200) reached and the optimization hasn't converged yet.\n",
      "  % self.max_iter, ConvergenceWarning)\n"
     ]
    },
    {
     "data": {
      "text/plain": [
       "MLPClassifier(activation='relu', alpha=0.0001, batch_size='auto', beta_1=0.9,\n",
       "              beta_2=0.999, early_stopping=False, epsilon=1e-08,\n",
       "              hidden_layer_sizes=(100,), learning_rate='constant',\n",
       "              learning_rate_init=0.001, max_fun=15000, max_iter=200,\n",
       "              momentum=0.9, n_iter_no_change=10, nesterovs_momentum=True,\n",
       "              power_t=0.5, random_state=None, shuffle=True, solver='adam',\n",
       "              tol=0.0001, validation_fraction=0.1, verbose=False,\n",
       "              warm_start=False)"
      ]
     },
     "execution_count": 32,
     "metadata": {
      "tags": []
     },
     "output_type": "execute_result"
    }
   ],
   "source": [
    "mlp=MLPClassifier()\n",
    "mlp.fit(x_train,Y_train)"
   ]
  },
  {
   "cell_type": "code",
   "execution_count": 0,
   "metadata": {
    "colab": {},
    "colab_type": "code",
    "id": "jx2Sk-urc1Rm"
   },
   "outputs": [],
   "source": [
    "acc_mlp=mlp.score(x_test,Y_test)"
   ]
  },
  {
   "cell_type": "code",
   "execution_count": 34,
   "metadata": {
    "colab": {
     "base_uri": "https://localhost:8080/",
     "height": 282
    },
    "colab_type": "code",
    "id": "EIzu-1K_Nacj",
    "outputId": "1e06a76b-45a3-4cc5-db10-e6220640068d"
   },
   "outputs": [
    {
     "data": {
      "text/plain": [
       "<BarContainer object of 4 artists>"
      ]
     },
     "execution_count": 34,
     "metadata": {
      "tags": []
     },
     "output_type": "execute_result"
    },
    {
     "data": {
      "image/png": "[encoded data removed]",
      "text/plain": [
       "<Figure size 432x288 with 1 Axes>"
      ]
     },
     "metadata": {
      "needs_background": "light",
      "tags": []
     },
     "output_type": "display_data"
    }
   ],
   "source": [
    "plt.bar(['NB','KNN','RF','DT'],[acc_NB,acc_knn,acc_rf,acc_dt],color=['red','green','blue','cyan'])"
   ]
  },
  {
   "cell_type": "code",
   "execution_count": 0,
   "metadata": {
    "colab": {},
    "colab_type": "code",
    "id": "AaN8DXHqc1Rs"
   },
   "outputs": [],
   "source": [
    "cm=confusion_matrix(mlp.predict(x_test),Y_test)\n",
    "acc_per_class_mlp=cm.diagonal()/cm.sum(axis=0)"
   ]
  },
  {
   "cell_type": "code",
   "execution_count": 0,
   "metadata": {
    "colab": {},
    "colab_type": "code",
    "id": "rRKzRkdsc1Rw"
   },
   "outputs": [],
   "source": [
    "acc_per_class=np.vstack([acc_per_class_NB,acc_per_class_knn,acc_per_class_rf,acc_per_class_dt,acc_per_class_mlp])"
   ]
  },
  {
   "cell_type": "code",
   "execution_count": 0,
   "metadata": {
    "colab": {},
    "colab_type": "code",
    "id": "n5ioKnvNc1R1"
   },
   "outputs": [],
   "source": [
    "Acc_per_class=pd.DataFrame(acc_per_class,columns=cols,index=['Naive Bayes','Kth-Nearest Neighbor','Random forest',\n",
    "                                                                    'DecisionTreeClassifier','MLPClassifier'])"
   ]
  },
  {
   "cell_type": "code",
   "execution_count": 38,
   "metadata": {
    "colab": {
     "base_uri": "https://localhost:8080/",
     "height": 215
    },
    "colab_type": "code",
    "id": "EihiPVo5c1R4",
    "outputId": "4afd93ba-d7e3-4fcd-ce2c-1bad69c364f4"
   },
   "outputs": [
    {
     "data": {
      "text/html": [
       "<div>\n",
       "<style scoped>\n",
       "    .dataframe tbody tr th:only-of-type {\n",
       "        vertical-align: middle;\n",
       "    }\n",
       "\n",
       "    .dataframe tbody tr th {\n",
       "        vertical-align: top;\n",
       "    }\n",
       "\n",
       "    .dataframe thead th {\n",
       "        text-align: right;\n",
       "    }\n",
       "</style>\n",
       "<table border=\"1\" class=\"dataframe\">\n",
       "  <thead>\n",
       "    <tr style=\"text-align: right;\">\n",
       "      <th></th>\n",
       "      <th>Analysis</th>\n",
       "      <th>Backdoor</th>\n",
       "      <th>DoS</th>\n",
       "      <th>Exploits</th>\n",
       "      <th>Fuzzers</th>\n",
       "      <th>Generic</th>\n",
       "      <th>Normal</th>\n",
       "      <th>Reconnaissance</th>\n",
       "      <th>Shellcode</th>\n",
       "      <th>Worms</th>\n",
       "    </tr>\n",
       "  </thead>\n",
       "  <tbody>\n",
       "    <tr>\n",
       "      <th>Naive Bayes</th>\n",
       "      <td>0.0</td>\n",
       "      <td>0.000000</td>\n",
       "      <td>0.000000</td>\n",
       "      <td>0.000000</td>\n",
       "      <td>0.000000</td>\n",
       "      <td>0.000000</td>\n",
       "      <td>1.000000</td>\n",
       "      <td>0.000000</td>\n",
       "      <td>0.0</td>\n",
       "      <td>0.0</td>\n",
       "    </tr>\n",
       "    <tr>\n",
       "      <th>Kth-Nearest Neighbor</th>\n",
       "      <td>0.0</td>\n",
       "      <td>0.166667</td>\n",
       "      <td>0.101695</td>\n",
       "      <td>0.522321</td>\n",
       "      <td>0.269663</td>\n",
       "      <td>0.977778</td>\n",
       "      <td>0.840391</td>\n",
       "      <td>0.436620</td>\n",
       "      <td>0.0</td>\n",
       "      <td>0.0</td>\n",
       "    </tr>\n",
       "    <tr>\n",
       "      <th>Random forest</th>\n",
       "      <td>0.0</td>\n",
       "      <td>0.000000</td>\n",
       "      <td>0.000000</td>\n",
       "      <td>0.562500</td>\n",
       "      <td>0.067416</td>\n",
       "      <td>0.293333</td>\n",
       "      <td>0.918567</td>\n",
       "      <td>0.239437</td>\n",
       "      <td>0.0</td>\n",
       "      <td>0.0</td>\n",
       "    </tr>\n",
       "    <tr>\n",
       "      <th>DecisionTreeClassifier</th>\n",
       "      <td>0.0</td>\n",
       "      <td>0.000000</td>\n",
       "      <td>0.067797</td>\n",
       "      <td>0.218750</td>\n",
       "      <td>0.101124</td>\n",
       "      <td>0.004444</td>\n",
       "      <td>0.114007</td>\n",
       "      <td>0.000000</td>\n",
       "      <td>0.0</td>\n",
       "      <td>0.0</td>\n",
       "    </tr>\n",
       "    <tr>\n",
       "      <th>MLPClassifier</th>\n",
       "      <td>0.0</td>\n",
       "      <td>0.000000</td>\n",
       "      <td>0.084746</td>\n",
       "      <td>0.477679</td>\n",
       "      <td>0.370787</td>\n",
       "      <td>0.942222</td>\n",
       "      <td>0.794788</td>\n",
       "      <td>0.535211</td>\n",
       "      <td>0.0</td>\n",
       "      <td>0.0</td>\n",
       "    </tr>\n",
       "  </tbody>\n",
       "</table>\n",
       "</div>"
      ],
      "text/plain": [
       "                        Analysis  Backdoor  ...  Shellcode  Worms\n",
       "Naive Bayes                  0.0  0.000000  ...        0.0    0.0\n",
       "Kth-Nearest Neighbor         0.0  0.166667  ...        0.0    0.0\n",
       "Random forest                0.0  0.000000  ...        0.0    0.0\n",
       "DecisionTreeClassifier       0.0  0.000000  ...        0.0    0.0\n",
       "MLPClassifier                0.0  0.000000  ...        0.0    0.0\n",
       "\n",
       "[5 rows x 10 columns]"
      ]
     },
     "execution_count": 38,
     "metadata": {
      "tags": []
     },
     "output_type": "execute_result"
    }
   ],
   "source": [
    "Acc_per_class"
   ]
  },
  {
   "cell_type": "markdown",
   "metadata": {
    "colab_type": "text",
    "id": "3HEhUivfipAM"
   },
   "source": [
    "One vs all"
   ]
  },
  {
   "cell_type": "code",
   "execution_count": 39,
   "metadata": {
    "colab": {
     "base_uri": "https://localhost:8080/",
     "height": 134
    },
    "colab_type": "code",
    "id": "zSvXI9QiNad9",
    "outputId": "c99c49ed-543c-47e4-d359-4e2ac1d98972"
   },
   "outputs": [
    {
     "data": {
      "text/plain": [
       "OneVsRestClassifier(estimator=SVC(C=1.0, break_ties=False, cache_size=200,\n",
       "                                  class_weight=None, coef0=0.0,\n",
       "                                  decision_function_shape='ovr', degree=3,\n",
       "                                  gamma='scale', kernel='linear', max_iter=-1,\n",
       "                                  probability=False, random_state=None,\n",
       "                                  shrinking=True, tol=0.001, verbose=False),\n",
       "                    n_jobs=None)"
      ]
     },
     "execution_count": 39,
     "metadata": {
      "tags": []
     },
     "output_type": "execute_result"
    }
   ],
   "source": [
    "one_all=OneVsRestClassifier(SVC(kernel='linear'))\n",
    "one_all.fit(x_train,Y_train)"
   ]
  },
  {
   "cell_type": "code",
   "execution_count": 40,
   "metadata": {
    "colab": {
     "base_uri": "https://localhost:8080/",
     "height": 34
    },
    "colab_type": "code",
    "id": "UU7TrImhNaeL",
    "outputId": "a553467c-ecba-4144-de9e-0ba2d5028476"
   },
   "outputs": [
    {
     "data": {
      "text/plain": [
       "0.577"
      ]
     },
     "execution_count": 40,
     "metadata": {
      "tags": []
     },
     "output_type": "execute_result"
    }
   ],
   "source": [
    "one_all.score(x_test,Y_test)"
   ]
  },
  {
   "cell_type": "markdown",
   "metadata": {
    "colab_type": "text",
    "id": "9YExfbKKQ96r"
   },
   "source": [
    "Hyper parameter tuning"
   ]
  },
  {
   "cell_type": "code",
   "execution_count": 45,
   "metadata": {
    "colab": {
     "base_uri": "https://localhost:8080/",
     "height": 421
    },
    "colab_type": "code",
    "id": "az3bVm50NagA",
    "outputId": "0d6ee97c-ba13-4175-98cd-35323f49f719"
   },
   "outputs": [
    {
     "name": "stdout",
     "output_type": "stream",
     "text": [
      "3\n"
     ]
    },
    {
     "data": {
      "image/png": "[encoded data removed]",
      "text/plain": [
       "<Figure size 720x432 with 1 Axes>"
      ]
     },
     "metadata": {
      "needs_background": "light",
      "tags": []
     },
     "output_type": "display_data"
    }
   ],
   "source": [
    "# hyper_parameter tuning for KNN\n",
    "error_rate = []\n",
    "# Will take some time\n",
    "for i in range(1,40):\n",
    " knn = KNeighborsClassifier(n_neighbors=i)# for knn hyperparameter is n_neighbors\n",
    " knn.fit(X_train,Y_train)\n",
    " pred_i = knn.predict(X_test)\n",
    "\n",
    " error_rate.append(np.mean(pred_i != Y_test))\n",
    "\n",
    "plt.figure(figsize=(10,6))\n",
    "plt.plot(range(1,40),error_rate,color=\"blue\", linestyle=\"dashed\", marker=\"o\",\n",
    " markerfacecolor=\"red\", markersize=10)\n",
    "plt.title(\"Error Rate vs. K Value\")\n",
    "plt.xlabel(\"K\")\n",
    "plt.ylabel(\"Error Rate\")\n",
    "\n",
    "index_optimum=error_rate.index(min(error_rate))\n",
    "print(index_optimum)\n",
    "K_optimum=index_optimum+1\n",
    "knn= KNeighborsClassifier(n_neighbors=K_optimum)\n",
    "knn.fit(x_train,Y_train)\n",
    "acc_knn_optimum=knn.score(x_test,Y_test)"
   ]
  },
  {
   "cell_type": "code",
   "execution_count": 100,
   "metadata": {
    "colab": {
     "base_uri": "https://localhost:8080/",
     "height": 421
    },
    "colab_type": "code",
    "id": "5MqcKXFtSv3r",
    "outputId": "3f4d70ea-3cda-4809-cd44-c26e2d0381db"
   },
   "outputs": [
    {
     "name": "stdout",
     "output_type": "stream",
     "text": [
      "110\n"
     ]
    },
    {
     "data": {
      "image/png": "[encoded data removed]",
      "text/plain": [
       "<Figure size 720x432 with 1 Axes>"
      ]
     },
     "metadata": {
      "needs_background": "light",
      "tags": []
     },
     "output_type": "display_data"
    }
   ],
   "source": [
    "# hyper_parameter tuning for Random Forest\n",
    "error_rate = []\n",
    "# Will take some time\n",
    "min_i=0\n",
    "min_error=9999\n",
    "for i in range(50,300,30):\n",
    "  rf= RandomForestClassifier(n_estimators=i)# for rf hyperparameter is n_estimators\n",
    "  rf.fit(x_train,Y_train)\n",
    "  pred_i =rf.predict(x_test)\n",
    "  if np.mean(pred_i != Y_test)<=min_error:\n",
    "    min_i=i\n",
    "    min_error=np.mean(pred_i != Y_test)\n",
    "    #print(np.mean(pred_i != Y_test))\n",
    "  error_rate.append(np.mean(pred_i != Y_test))\n",
    "\n",
    "plt.figure(figsize=(10,6))\n",
    "plt.plot(range(50,300,30),error_rate,color=\"blue\", linestyle=\"dashed\", marker=\"o\",\n",
    " markerfacecolor=\"green\", markersize=10)\n",
    "plt.title(\"Error Rate vs. n Value\")\n",
    "plt.xlabel(\"n\")\n",
    "plt.ylabel(\"Error rate\")\n",
    "print(min_i)\n",
    "n_optimum=min_i\n",
    "rf=RandomForestClassifier(n_estimators=n_optimum)\n",
    "rf.fit(x_train,Y_train)\n",
    "acc_rf_optimum=rf.score(x_test,Y_test)"
   ]
  },
  {
   "cell_type": "code",
   "execution_count": 101,
   "metadata": {
    "colab": {
     "base_uri": "https://localhost:8080/",
     "height": 643
    },
    "colab_type": "code",
    "id": "h7jIRcn-UFOQ",
    "outputId": "824ab2af-cc30-4eea-8a81-fbb73e9f7fc0"
   },
   "outputs": [
    {
     "name": "stderr",
     "output_type": "stream",
     "text": [
      "/usr/local/lib/python3.6/dist-packages/sklearn/neural_network/_multilayer_perceptron.py:571: ConvergenceWarning: Stochastic Optimizer: Maximum iterations (100) reached and the optimization hasn't converged yet.\n",
      "  % self.max_iter, ConvergenceWarning)\n",
      "/usr/local/lib/python3.6/dist-packages/sklearn/neural_network/_multilayer_perceptron.py:571: ConvergenceWarning: Stochastic Optimizer: Maximum iterations (200) reached and the optimization hasn't converged yet.\n",
      "  % self.max_iter, ConvergenceWarning)\n",
      "/usr/local/lib/python3.6/dist-packages/sklearn/neural_network/_multilayer_perceptron.py:571: ConvergenceWarning: Stochastic Optimizer: Maximum iterations (300) reached and the optimization hasn't converged yet.\n",
      "  % self.max_iter, ConvergenceWarning)\n",
      "/usr/local/lib/python3.6/dist-packages/sklearn/neural_network/_multilayer_perceptron.py:571: ConvergenceWarning: Stochastic Optimizer: Maximum iterations (400) reached and the optimization hasn't converged yet.\n",
      "  % self.max_iter, ConvergenceWarning)\n",
      "/usr/local/lib/python3.6/dist-packages/sklearn/neural_network/_multilayer_perceptron.py:571: ConvergenceWarning: Stochastic Optimizer: Maximum iterations (500) reached and the optimization hasn't converged yet.\n",
      "  % self.max_iter, ConvergenceWarning)\n"
     ]
    },
    {
     "name": "stdout",
     "output_type": "stream",
     "text": [
      "500\n"
     ]
    },
    {
     "name": "stderr",
     "output_type": "stream",
     "text": [
      "/usr/local/lib/python3.6/dist-packages/sklearn/neural_network/_multilayer_perceptron.py:571: ConvergenceWarning: Stochastic Optimizer: Maximum iterations (500) reached and the optimization hasn't converged yet.\n",
      "  % self.max_iter, ConvergenceWarning)\n"
     ]
    },
    {
     "data": {
      "image/png": "[encoded data removed]",
      "text/plain": [
       "<Figure size 720x432 with 1 Axes>"
      ]
     },
     "metadata": {
      "needs_background": "light",
      "tags": []
     },
     "output_type": "display_data"
    }
   ],
   "source": [
    "# hyper_parameter tuning for Random Forest\n",
    "error_rate = []\n",
    "min_i=0\n",
    "min_error=999\n",
    "for i in range(100,600,100):\n",
    "  mlp=MLPClassifier(max_iter=i)# for mlp hyperparameter is max_iter\n",
    "  mlp.fit(x_train,Y_train)\n",
    "  pred_i =mlp.predict(x_test)\n",
    "  if np.mean(pred_i != Y_test)<=min_error:\n",
    "    min_i=i\n",
    "    min_error=np.mean(pred_i != Y_test)\n",
    "  error_rate.append(np.mean(pred_i != Y_test))\n",
    "\n",
    "plt.figure(figsize=(10,6))\n",
    "plt.plot(range(100,600,100),error_rate,color=\"blue\", linestyle=\"dashed\", marker=\"o\",\n",
    " markerfacecolor=\"blue\", markersize=10)\n",
    "plt.title(\"Error Rate vs. n Value\")\n",
    "plt.xlabel(\"max_iter\")\n",
    "plt.ylabel(\"Error Rate\")\n",
    "print(min_i)\n",
    "iter_optimum=min_i\n",
    "mlp=MLPClassifier(max_iter=iter_optimum)\n",
    "mlp.fit(x_train,Y_train)\n",
    "acc_mlp_optimum=mlp.score(x_test,Y_test)"
   ]
  },
  {
   "cell_type": "markdown",
   "metadata": {
    "colab_type": "text",
    "id": "eJqBpsvNb0u6"
   },
   "source": [
    "K-means clustering"
   ]
  },
  {
   "cell_type": "code",
   "execution_count": 0,
   "metadata": {
    "colab": {},
    "colab_type": "code",
    "id": "RClPkfxk0_2x"
   },
   "outputs": [],
   "source": [
    "x_Train=np.vstack((x_train,x_test))\n",
    "Y_Train=np.vstack((Y_train,Y_test))"
   ]
  },
  {
   "cell_type": "code",
   "execution_count": 136,
   "metadata": {
    "colab": {
     "base_uri": "https://localhost:8080/",
     "height": 215
    },
    "colab_type": "code",
    "id": "fLZeSJvssohi",
    "outputId": "a7901285-cdf2-4abd-c420-09821783088f"
   },
   "outputs": [
    {
     "data": {
      "text/html": [
       "<div>\n",
       "<style scoped>\n",
       "    .dataframe tbody tr th:only-of-type {\n",
       "        vertical-align: middle;\n",
       "    }\n",
       "\n",
       "    .dataframe tbody tr th {\n",
       "        vertical-align: top;\n",
       "    }\n",
       "\n",
       "    .dataframe thead th {\n",
       "        text-align: right;\n",
       "    }\n",
       "</style>\n",
       "<table border=\"1\" class=\"dataframe\">\n",
       "  <thead>\n",
       "    <tr style=\"text-align: right;\">\n",
       "      <th></th>\n",
       "      <th>0</th>\n",
       "      <th>1</th>\n",
       "      <th>2</th>\n",
       "      <th>3</th>\n",
       "      <th>4</th>\n",
       "      <th>5</th>\n",
       "      <th>6</th>\n",
       "      <th>7</th>\n",
       "      <th>8</th>\n",
       "      <th>9</th>\n",
       "      <th>10</th>\n",
       "      <th>11</th>\n",
       "      <th>12</th>\n",
       "      <th>13</th>\n",
       "      <th>14</th>\n",
       "      <th>15</th>\n",
       "      <th>16</th>\n",
       "      <th>17</th>\n",
       "      <th>18</th>\n",
       "      <th>19</th>\n",
       "      <th>20</th>\n",
       "      <th>21</th>\n",
       "      <th>22</th>\n",
       "      <th>23</th>\n",
       "      <th>24</th>\n",
       "      <th>25</th>\n",
       "      <th>26</th>\n",
       "      <th>27</th>\n",
       "      <th>28</th>\n",
       "      <th>29</th>\n",
       "      <th>30</th>\n",
       "      <th>31</th>\n",
       "      <th>32</th>\n",
       "      <th>33</th>\n",
       "      <th>34</th>\n",
       "      <th>35</th>\n",
       "      <th>36</th>\n",
       "      <th>37</th>\n",
       "      <th>38</th>\n",
       "      <th>39</th>\n",
       "      <th>40</th>\n",
       "      <th>41</th>\n",
       "      <th>42</th>\n",
       "      <th>43</th>\n",
       "    </tr>\n",
       "  </thead>\n",
       "  <tbody>\n",
       "    <tr>\n",
       "      <th>0</th>\n",
       "      <td>-1.676265</td>\n",
       "      <td>-0.245006</td>\n",
       "      <td>-5.694329</td>\n",
       "      <td>-0.708105</td>\n",
       "      <td>0.978334</td>\n",
       "      <td>-0.379687</td>\n",
       "      <td>-0.266384</td>\n",
       "      <td>-0.160153</td>\n",
       "      <td>-0.142403</td>\n",
       "      <td>0.806340</td>\n",
       "      <td>0.714370</td>\n",
       "      <td>-0.849644</td>\n",
       "      <td>0.689113</td>\n",
       "      <td>-0.271694</td>\n",
       "      <td>-0.325639</td>\n",
       "      <td>-0.203824</td>\n",
       "      <td>-0.117052</td>\n",
       "      <td>-0.083805</td>\n",
       "      <td>-0.126883</td>\n",
       "      <td>-0.203993</td>\n",
       "      <td>-1.092237</td>\n",
       "      <td>-0.821221</td>\n",
       "      <td>-0.827120</td>\n",
       "      <td>-1.053425</td>\n",
       "      <td>-0.667901</td>\n",
       "      <td>-0.642112</td>\n",
       "      <td>-0.641760</td>\n",
       "      <td>-0.176129</td>\n",
       "      <td>-0.488555</td>\n",
       "      <td>-0.322184</td>\n",
       "      <td>-0.050856</td>\n",
       "      <td>-0.323434</td>\n",
       "      <td>0.643821</td>\n",
       "      <td>-0.330064</td>\n",
       "      <td>-0.355772</td>\n",
       "      <td>-0.290892</td>\n",
       "      <td>-0.142679</td>\n",
       "      <td>-0.08396</td>\n",
       "      <td>-0.08396</td>\n",
       "      <td>-0.211213</td>\n",
       "      <td>-0.509634</td>\n",
       "      <td>-0.277024</td>\n",
       "      <td>-0.105463</td>\n",
       "      <td>2.0</td>\n",
       "    </tr>\n",
       "    <tr>\n",
       "      <th>1</th>\n",
       "      <td>0.617050</td>\n",
       "      <td>-0.245004</td>\n",
       "      <td>0.487799</td>\n",
       "      <td>0.294876</td>\n",
       "      <td>0.978334</td>\n",
       "      <td>-0.379687</td>\n",
       "      <td>-0.266384</td>\n",
       "      <td>-0.163762</td>\n",
       "      <td>-0.142403</td>\n",
       "      <td>0.077577</td>\n",
       "      <td>0.714370</td>\n",
       "      <td>-0.849644</td>\n",
       "      <td>-0.114441</td>\n",
       "      <td>-0.271694</td>\n",
       "      <td>-0.325639</td>\n",
       "      <td>-0.203824</td>\n",
       "      <td>-0.117051</td>\n",
       "      <td>-0.083805</td>\n",
       "      <td>-0.126883</td>\n",
       "      <td>-0.203993</td>\n",
       "      <td>-1.092237</td>\n",
       "      <td>-0.821221</td>\n",
       "      <td>-0.827120</td>\n",
       "      <td>-1.053425</td>\n",
       "      <td>-0.667901</td>\n",
       "      <td>-0.642112</td>\n",
       "      <td>-0.641760</td>\n",
       "      <td>-0.384366</td>\n",
       "      <td>-0.488555</td>\n",
       "      <td>-0.322184</td>\n",
       "      <td>-0.050856</td>\n",
       "      <td>0.199640</td>\n",
       "      <td>0.643821</td>\n",
       "      <td>-0.554673</td>\n",
       "      <td>-0.467826</td>\n",
       "      <td>-0.454039</td>\n",
       "      <td>-0.565557</td>\n",
       "      <td>-0.08396</td>\n",
       "      <td>-0.08396</td>\n",
       "      <td>-0.211213</td>\n",
       "      <td>-0.621715</td>\n",
       "      <td>0.243698</td>\n",
       "      <td>-0.105463</td>\n",
       "      <td>5.0</td>\n",
       "    </tr>\n",
       "    <tr>\n",
       "      <th>2</th>\n",
       "      <td>1.652329</td>\n",
       "      <td>-0.245004</td>\n",
       "      <td>0.046219</td>\n",
       "      <td>-0.708105</td>\n",
       "      <td>2.533713</td>\n",
       "      <td>-0.379687</td>\n",
       "      <td>-0.266384</td>\n",
       "      <td>-0.164769</td>\n",
       "      <td>-0.142403</td>\n",
       "      <td>0.212533</td>\n",
       "      <td>0.714370</td>\n",
       "      <td>-0.849644</td>\n",
       "      <td>-0.124300</td>\n",
       "      <td>-0.271694</td>\n",
       "      <td>-0.225504</td>\n",
       "      <td>-0.203824</td>\n",
       "      <td>-0.117051</td>\n",
       "      <td>-0.083805</td>\n",
       "      <td>-0.126883</td>\n",
       "      <td>-0.203993</td>\n",
       "      <td>0.915552</td>\n",
       "      <td>-0.821221</td>\n",
       "      <td>-0.827120</td>\n",
       "      <td>-1.053425</td>\n",
       "      <td>-0.667901</td>\n",
       "      <td>-0.642112</td>\n",
       "      <td>-0.641760</td>\n",
       "      <td>-0.442478</td>\n",
       "      <td>-0.488555</td>\n",
       "      <td>-0.322184</td>\n",
       "      <td>-0.050856</td>\n",
       "      <td>-0.236255</td>\n",
       "      <td>4.539861</td>\n",
       "      <td>-0.442369</td>\n",
       "      <td>-0.467826</td>\n",
       "      <td>-0.454039</td>\n",
       "      <td>-0.058103</td>\n",
       "      <td>-0.08396</td>\n",
       "      <td>-0.08396</td>\n",
       "      <td>-0.211213</td>\n",
       "      <td>-0.509634</td>\n",
       "      <td>-0.190237</td>\n",
       "      <td>-0.105463</td>\n",
       "      <td>6.0</td>\n",
       "    </tr>\n",
       "    <tr>\n",
       "      <th>3</th>\n",
       "      <td>-1.329297</td>\n",
       "      <td>0.274196</td>\n",
       "      <td>0.046219</td>\n",
       "      <td>-0.708105</td>\n",
       "      <td>-0.577046</td>\n",
       "      <td>0.257275</td>\n",
       "      <td>0.768256</td>\n",
       "      <td>-0.114330</td>\n",
       "      <td>0.655075</td>\n",
       "      <td>-0.529410</td>\n",
       "      <td>-1.186366</td>\n",
       "      <td>1.290689</td>\n",
       "      <td>-0.395399</td>\n",
       "      <td>-0.166006</td>\n",
       "      <td>0.275171</td>\n",
       "      <td>0.829260</td>\n",
       "      <td>-0.104637</td>\n",
       "      <td>-0.066531</td>\n",
       "      <td>-0.057433</td>\n",
       "      <td>0.648875</td>\n",
       "      <td>0.915552</td>\n",
       "      <td>1.413103</td>\n",
       "      <td>2.234226</td>\n",
       "      <td>0.949284</td>\n",
       "      <td>1.669893</td>\n",
       "      <td>1.089405</td>\n",
       "      <td>2.153550</td>\n",
       "      <td>-0.398894</td>\n",
       "      <td>3.711907</td>\n",
       "      <td>-0.322184</td>\n",
       "      <td>-0.050856</td>\n",
       "      <td>-0.759329</td>\n",
       "      <td>-0.330189</td>\n",
       "      <td>-0.442369</td>\n",
       "      <td>-0.467826</td>\n",
       "      <td>-0.454039</td>\n",
       "      <td>-0.565557</td>\n",
       "      <td>-0.08396</td>\n",
       "      <td>-0.08396</td>\n",
       "      <td>-0.211213</td>\n",
       "      <td>-0.621715</td>\n",
       "      <td>-0.363811</td>\n",
       "      <td>-0.105463</td>\n",
       "      <td>3.0</td>\n",
       "    </tr>\n",
       "    <tr>\n",
       "      <th>4</th>\n",
       "      <td>1.666954</td>\n",
       "      <td>-0.055562</td>\n",
       "      <td>0.046219</td>\n",
       "      <td>1.799348</td>\n",
       "      <td>-0.577046</td>\n",
       "      <td>-0.148065</td>\n",
       "      <td>-0.123675</td>\n",
       "      <td>-0.134640</td>\n",
       "      <td>-0.127678</td>\n",
       "      <td>-0.529544</td>\n",
       "      <td>-1.186366</td>\n",
       "      <td>1.290689</td>\n",
       "      <td>-0.395375</td>\n",
       "      <td>-0.266928</td>\n",
       "      <td>-0.125369</td>\n",
       "      <td>-0.127299</td>\n",
       "      <td>-0.105476</td>\n",
       "      <td>-0.037460</td>\n",
       "      <td>-0.051961</td>\n",
       "      <td>-0.156468</td>\n",
       "      <td>0.915552</td>\n",
       "      <td>1.476082</td>\n",
       "      <td>0.339836</td>\n",
       "      <td>0.949284</td>\n",
       "      <td>1.024895</td>\n",
       "      <td>1.174640</td>\n",
       "      <td>0.783351</td>\n",
       "      <td>-0.268141</td>\n",
       "      <td>0.074566</td>\n",
       "      <td>3.033899</td>\n",
       "      <td>-0.045237</td>\n",
       "      <td>-0.323434</td>\n",
       "      <td>-0.330189</td>\n",
       "      <td>-0.330064</td>\n",
       "      <td>-0.243718</td>\n",
       "      <td>-0.127744</td>\n",
       "      <td>-0.142679</td>\n",
       "      <td>-0.08396</td>\n",
       "      <td>-0.08396</td>\n",
       "      <td>14.189690</td>\n",
       "      <td>-0.397552</td>\n",
       "      <td>-0.277024</td>\n",
       "      <td>-0.105463</td>\n",
       "      <td>6.0</td>\n",
       "    </tr>\n",
       "  </tbody>\n",
       "</table>\n",
       "</div>"
      ],
      "text/plain": [
       "         0         1         2         3   ...        40        41        42   43\n",
       "0 -1.676265 -0.245006 -5.694329 -0.708105  ... -0.509634 -0.277024 -0.105463  2.0\n",
       "1  0.617050 -0.245004  0.487799  0.294876  ... -0.621715  0.243698 -0.105463  5.0\n",
       "2  1.652329 -0.245004  0.046219 -0.708105  ... -0.509634 -0.190237 -0.105463  6.0\n",
       "3 -1.329297  0.274196  0.046219 -0.708105  ... -0.621715 -0.363811 -0.105463  3.0\n",
       "4  1.666954 -0.055562  0.046219  1.799348  ... -0.397552 -0.277024 -0.105463  6.0\n",
       "\n",
       "[5 rows x 44 columns]"
      ]
     },
     "execution_count": 136,
     "metadata": {
      "tags": []
     },
     "output_type": "execute_result"
    }
   ],
   "source": [
    "x_train1=np.hstack((x_Train,Y_Train.reshape(-1,1)))\n",
    "pd.DataFrame(x_train1).head()"
   ]
  },
  {
   "cell_type": "code",
   "execution_count": 0,
   "metadata": {
    "colab": {},
    "colab_type": "code",
    "id": "BeV3dJyeWnk8"
   },
   "outputs": [],
   "source": [
    "km=KMeans(n_clusters=6)\n",
    "km.fit(x_train1)\n",
    "clusters=km.labels_\n",
    "cluster=np.unique(clusters)\n",
    "centroids=km.cluster_centers_"
   ]
  },
  {
   "cell_type": "code",
   "execution_count": 0,
   "metadata": {
    "colab": {},
    "colab_type": "code",
    "id": "xB7dU2AUkppy"
   },
   "outputs": [],
   "source": [
    "cluster_data={}\n",
    "for c in cluster:\n",
    " cluster_data[c]=x_train1[km.labels_==c]"
   ]
  },
  {
   "cell_type": "code",
   "execution_count": 139,
   "metadata": {
    "colab": {
     "base_uri": "https://localhost:8080/",
     "height": 215
    },
    "colab_type": "code",
    "id": "cplhR2flnjDC",
    "outputId": "27b33279-a935-499f-d6a0-a1577ff79ffb"
   },
   "outputs": [
    {
     "data": {
      "text/html": [
       "<div>\n",
       "<style scoped>\n",
       "    .dataframe tbody tr th:only-of-type {\n",
       "        vertical-align: middle;\n",
       "    }\n",
       "\n",
       "    .dataframe tbody tr th {\n",
       "        vertical-align: top;\n",
       "    }\n",
       "\n",
       "    .dataframe thead th {\n",
       "        text-align: right;\n",
       "    }\n",
       "</style>\n",
       "<table border=\"1\" class=\"dataframe\">\n",
       "  <thead>\n",
       "    <tr style=\"text-align: right;\">\n",
       "      <th></th>\n",
       "      <th>0</th>\n",
       "      <th>1</th>\n",
       "      <th>2</th>\n",
       "      <th>3</th>\n",
       "      <th>4</th>\n",
       "      <th>5</th>\n",
       "      <th>6</th>\n",
       "      <th>7</th>\n",
       "      <th>8</th>\n",
       "      <th>9</th>\n",
       "      <th>10</th>\n",
       "      <th>11</th>\n",
       "      <th>12</th>\n",
       "      <th>13</th>\n",
       "      <th>14</th>\n",
       "      <th>15</th>\n",
       "      <th>16</th>\n",
       "      <th>17</th>\n",
       "      <th>18</th>\n",
       "      <th>19</th>\n",
       "      <th>20</th>\n",
       "      <th>21</th>\n",
       "      <th>22</th>\n",
       "      <th>23</th>\n",
       "      <th>24</th>\n",
       "      <th>25</th>\n",
       "      <th>26</th>\n",
       "      <th>27</th>\n",
       "      <th>28</th>\n",
       "      <th>29</th>\n",
       "      <th>30</th>\n",
       "      <th>31</th>\n",
       "      <th>32</th>\n",
       "      <th>33</th>\n",
       "      <th>34</th>\n",
       "      <th>35</th>\n",
       "      <th>36</th>\n",
       "      <th>37</th>\n",
       "      <th>38</th>\n",
       "      <th>39</th>\n",
       "      <th>40</th>\n",
       "      <th>41</th>\n",
       "      <th>42</th>\n",
       "      <th>43</th>\n",
       "    </tr>\n",
       "  </thead>\n",
       "  <tbody>\n",
       "    <tr>\n",
       "      <th>0</th>\n",
       "      <td>-0.696571</td>\n",
       "      <td>-0.244520</td>\n",
       "      <td>0.487799</td>\n",
       "      <td>-0.708105</td>\n",
       "      <td>-2.132425</td>\n",
       "      <td>-0.321781</td>\n",
       "      <td>-0.195030</td>\n",
       "      <td>-0.146389</td>\n",
       "      <td>-0.138250</td>\n",
       "      <td>-0.500591</td>\n",
       "      <td>-1.493256</td>\n",
       "      <td>-0.603336</td>\n",
       "      <td>-0.382058</td>\n",
       "      <td>0.176334</td>\n",
       "      <td>-0.325639</td>\n",
       "      <td>-0.203824</td>\n",
       "      <td>-0.116983</td>\n",
       "      <td>-0.083688</td>\n",
       "      <td>-0.126873</td>\n",
       "      <td>-0.203897</td>\n",
       "      <td>-1.092237</td>\n",
       "      <td>-0.821221</td>\n",
       "      <td>-0.827120</td>\n",
       "      <td>-1.053425</td>\n",
       "      <td>-0.667901</td>\n",
       "      <td>-0.642112</td>\n",
       "      <td>-0.641760</td>\n",
       "      <td>-0.021163</td>\n",
       "      <td>-0.171539</td>\n",
       "      <td>-0.322184</td>\n",
       "      <td>-0.050856</td>\n",
       "      <td>-0.149076</td>\n",
       "      <td>-1.304199</td>\n",
       "      <td>-0.554673</td>\n",
       "      <td>-0.467826</td>\n",
       "      <td>-0.454039</td>\n",
       "      <td>-0.565557</td>\n",
       "      <td>-0.08396</td>\n",
       "      <td>-0.08396</td>\n",
       "      <td>-0.211213</td>\n",
       "      <td>-0.621715</td>\n",
       "      <td>-0.190237</td>\n",
       "      <td>-0.105463</td>\n",
       "      <td>6.0</td>\n",
       "    </tr>\n",
       "    <tr>\n",
       "      <th>1</th>\n",
       "      <td>-0.719446</td>\n",
       "      <td>-0.244481</td>\n",
       "      <td>0.487799</td>\n",
       "      <td>-0.708105</td>\n",
       "      <td>-2.132425</td>\n",
       "      <td>-0.321781</td>\n",
       "      <td>-0.195030</td>\n",
       "      <td>-0.146389</td>\n",
       "      <td>-0.138250</td>\n",
       "      <td>-0.502758</td>\n",
       "      <td>-1.493256</td>\n",
       "      <td>-0.603336</td>\n",
       "      <td>-0.383054</td>\n",
       "      <td>0.143003</td>\n",
       "      <td>-0.325639</td>\n",
       "      <td>-0.203824</td>\n",
       "      <td>-0.116977</td>\n",
       "      <td>-0.083672</td>\n",
       "      <td>-0.126872</td>\n",
       "      <td>-0.203884</td>\n",
       "      <td>-1.092237</td>\n",
       "      <td>-0.821221</td>\n",
       "      <td>-0.827120</td>\n",
       "      <td>-1.053425</td>\n",
       "      <td>-0.667901</td>\n",
       "      <td>-0.642112</td>\n",
       "      <td>-0.641760</td>\n",
       "      <td>-0.021163</td>\n",
       "      <td>-0.171539</td>\n",
       "      <td>-0.322184</td>\n",
       "      <td>-0.050856</td>\n",
       "      <td>0.112461</td>\n",
       "      <td>-1.304199</td>\n",
       "      <td>-0.217759</td>\n",
       "      <td>-0.467826</td>\n",
       "      <td>-0.454039</td>\n",
       "      <td>-0.311830</td>\n",
       "      <td>-0.08396</td>\n",
       "      <td>-0.08396</td>\n",
       "      <td>-0.211213</td>\n",
       "      <td>0.050773</td>\n",
       "      <td>0.070124</td>\n",
       "      <td>-0.105463</td>\n",
       "      <td>6.0</td>\n",
       "    </tr>\n",
       "    <tr>\n",
       "      <th>2</th>\n",
       "      <td>-0.338311</td>\n",
       "      <td>-0.236258</td>\n",
       "      <td>0.046219</td>\n",
       "      <td>-0.708105</td>\n",
       "      <td>-0.577046</td>\n",
       "      <td>1.299575</td>\n",
       "      <td>0.839610</td>\n",
       "      <td>-0.017566</td>\n",
       "      <td>0.486412</td>\n",
       "      <td>-0.501711</td>\n",
       "      <td>-1.493256</td>\n",
       "      <td>-0.603336</td>\n",
       "      <td>-0.388787</td>\n",
       "      <td>4.679331</td>\n",
       "      <td>0.375306</td>\n",
       "      <td>0.714473</td>\n",
       "      <td>-0.116971</td>\n",
       "      <td>-0.083518</td>\n",
       "      <td>-0.126388</td>\n",
       "      <td>-0.194153</td>\n",
       "      <td>0.915552</td>\n",
       "      <td>-0.354103</td>\n",
       "      <td>-0.349078</td>\n",
       "      <td>0.949284</td>\n",
       "      <td>-0.659420</td>\n",
       "      <td>-0.629647</td>\n",
       "      <td>-0.638196</td>\n",
       "      <td>-0.369838</td>\n",
       "      <td>2.610694</td>\n",
       "      <td>-0.322184</td>\n",
       "      <td>-0.050856</td>\n",
       "      <td>0.112461</td>\n",
       "      <td>-1.304199</td>\n",
       "      <td>-0.442369</td>\n",
       "      <td>-0.467826</td>\n",
       "      <td>-0.454039</td>\n",
       "      <td>-0.565557</td>\n",
       "      <td>-0.08396</td>\n",
       "      <td>-0.08396</td>\n",
       "      <td>-0.211213</td>\n",
       "      <td>-0.509634</td>\n",
       "      <td>-0.624172</td>\n",
       "      <td>-0.105463</td>\n",
       "      <td>6.0</td>\n",
       "    </tr>\n",
       "    <tr>\n",
       "      <th>3</th>\n",
       "      <td>-0.420980</td>\n",
       "      <td>-0.229236</td>\n",
       "      <td>0.046219</td>\n",
       "      <td>-0.708105</td>\n",
       "      <td>-0.577046</td>\n",
       "      <td>0.836330</td>\n",
       "      <td>0.554192</td>\n",
       "      <td>-0.052478</td>\n",
       "      <td>0.185472</td>\n",
       "      <td>-0.518295</td>\n",
       "      <td>-1.493256</td>\n",
       "      <td>-0.603336</td>\n",
       "      <td>-0.392619</td>\n",
       "      <td>1.152286</td>\n",
       "      <td>0.375306</td>\n",
       "      <td>0.408374</td>\n",
       "      <td>-0.116852</td>\n",
       "      <td>-0.083107</td>\n",
       "      <td>-0.125586</td>\n",
       "      <td>-0.178736</td>\n",
       "      <td>0.915552</td>\n",
       "      <td>0.993523</td>\n",
       "      <td>1.036386</td>\n",
       "      <td>0.949284</td>\n",
       "      <td>-0.660157</td>\n",
       "      <td>-0.630623</td>\n",
       "      <td>-0.638621</td>\n",
       "      <td>-0.355310</td>\n",
       "      <td>1.688844</td>\n",
       "      <td>-0.322184</td>\n",
       "      <td>-0.050856</td>\n",
       "      <td>0.112461</td>\n",
       "      <td>-1.304199</td>\n",
       "      <td>-0.442369</td>\n",
       "      <td>-0.467826</td>\n",
       "      <td>-0.454039</td>\n",
       "      <td>-0.565557</td>\n",
       "      <td>-0.08396</td>\n",
       "      <td>-0.08396</td>\n",
       "      <td>-0.211213</td>\n",
       "      <td>0.050773</td>\n",
       "      <td>-0.363811</td>\n",
       "      <td>-0.105463</td>\n",
       "      <td>6.0</td>\n",
       "    </tr>\n",
       "    <tr>\n",
       "      <th>4</th>\n",
       "      <td>-0.658486</td>\n",
       "      <td>-0.240650</td>\n",
       "      <td>0.046219</td>\n",
       "      <td>-0.708105</td>\n",
       "      <td>-0.577046</td>\n",
       "      <td>0.025652</td>\n",
       "      <td>0.054711</td>\n",
       "      <td>-0.103924</td>\n",
       "      <td>-0.119947</td>\n",
       "      <td>-0.514384</td>\n",
       "      <td>-1.493256</td>\n",
       "      <td>-0.603336</td>\n",
       "      <td>-0.389988</td>\n",
       "      <td>0.069177</td>\n",
       "      <td>0.074901</td>\n",
       "      <td>-0.050774</td>\n",
       "      <td>-0.116896</td>\n",
       "      <td>-0.083334</td>\n",
       "      <td>-0.125772</td>\n",
       "      <td>-0.203488</td>\n",
       "      <td>0.915552</td>\n",
       "      <td>1.836267</td>\n",
       "      <td>0.338129</td>\n",
       "      <td>0.949284</td>\n",
       "      <td>-0.651616</td>\n",
       "      <td>-0.614499</td>\n",
       "      <td>-0.638834</td>\n",
       "      <td>-0.195500</td>\n",
       "      <td>-0.108970</td>\n",
       "      <td>-0.322184</td>\n",
       "      <td>-0.050856</td>\n",
       "      <td>-0.061897</td>\n",
       "      <td>-1.304199</td>\n",
       "      <td>0.231460</td>\n",
       "      <td>0.092445</td>\n",
       "      <td>-0.454039</td>\n",
       "      <td>-0.058103</td>\n",
       "      <td>-0.08396</td>\n",
       "      <td>-0.08396</td>\n",
       "      <td>-0.211213</td>\n",
       "      <td>0.162854</td>\n",
       "      <td>0.330485</td>\n",
       "      <td>-0.105463</td>\n",
       "      <td>6.0</td>\n",
       "    </tr>\n",
       "  </tbody>\n",
       "</table>\n",
       "</div>"
      ],
      "text/plain": [
       "         0         1         2         3   ...        40        41        42   43\n",
       "0 -0.696571 -0.244520  0.487799 -0.708105  ... -0.621715 -0.190237 -0.105463  6.0\n",
       "1 -0.719446 -0.244481  0.487799 -0.708105  ...  0.050773  0.070124 -0.105463  6.0\n",
       "2 -0.338311 -0.236258  0.046219 -0.708105  ... -0.509634 -0.624172 -0.105463  6.0\n",
       "3 -0.420980 -0.229236  0.046219 -0.708105  ...  0.050773 -0.363811 -0.105463  6.0\n",
       "4 -0.658486 -0.240650  0.046219 -0.708105  ...  0.162854  0.330485 -0.105463  6.0\n",
       "\n",
       "[5 rows x 44 columns]"
      ]
     },
     "execution_count": 139,
     "metadata": {
      "tags": []
     },
     "output_type": "execute_result"
    }
   ],
   "source": [
    "pd.DataFrame(cluster_data[1]).head()"
   ]
  },
  {
   "cell_type": "code",
   "execution_count": 0,
   "metadata": {
    "colab": {},
    "colab_type": "code",
    "id": "ThEfDLWdlgMj"
   },
   "outputs": [],
   "source": [
    "data_per_cluster=[]\n",
    "for d in cluster_data:\n",
    "   data_per_cluster.append(cluster_data[d].shape[0])"
   ]
  },
  {
   "cell_type": "code",
   "execution_count": 141,
   "metadata": {
    "colab": {
     "base_uri": "https://localhost:8080/",
     "height": 282
    },
    "colab_type": "code",
    "id": "ZXOcOTp7mkXT",
    "outputId": "f57aab3e-bff8-4563-c6c9-796405320889"
   },
   "outputs": [
    {
     "data": {
      "text/plain": [
       "<BarContainer object of 6 artists>"
      ]
     },
     "execution_count": 141,
     "metadata": {
      "tags": []
     },
     "output_type": "execute_result"
    },
    {
     "data": {
      "image/png": "[encoded data removed]",
      "text/plain": [
       "<Figure size 432x288 with 1 Axes>"
      ]
     },
     "metadata": {
      "needs_background": "light",
      "tags": []
     },
     "output_type": "display_data"
    }
   ],
   "source": [
    "plt.bar(range(len(data_per_cluster)),data_per_cluster)"
   ]
  },
  {
   "cell_type": "code",
   "execution_count": 142,
   "metadata": {
    "colab": {
     "base_uri": "https://localhost:8080/",
     "height": 374
    },
    "colab_type": "code",
    "id": "DEFoh0uzn79a",
    "outputId": "8546b964-31aa-4822-cba6-d689f7b5026e"
   },
   "outputs": [
    {
     "data": {
      "image/png": "[encoded data removed]",
      "text/plain": [
       "<Figure size 720x432 with 1 Axes>"
      ]
     },
     "metadata": {
      "needs_background": "light",
      "tags": []
     },
     "output_type": "display_data"
    }
   ],
   "source": [
    "fig, ax = plt.subplots(figsize=(10, 6))\n",
    "colors=['red','green','blue','yellow','cyan','orange']\n",
    "for i,C in enumerate(cluster_data):\n",
    "  plt.scatter(cluster_data[C][:,1],cluster_data[C][:,5],\n",
    "              c=colors[i])\n",
    " "
   ]
  },
  {
   "cell_type": "code",
   "execution_count": 0,
   "metadata": {
    "colab": {},
    "colab_type": "code",
    "id": "94BWMl5SwJiK"
   },
   "outputs": [],
   "source": [
    "acc_list_per_cluster={}\n",
    "confusion_matrix_per_cluster={}\n",
    "for d in cluster_data:\n",
    "   x=cluster_data[d][:,:-1]\n",
    "   y=cluster_data[d][:,-1]\n",
    "   if x.shape[0]>=300:\n",
    "     acc_list_per_cluster[d]=[]\n",
    "     confusion_matrix_per_cluster[d]=[]\n",
    "     #print(x.shape,y.shape)\n",
    "     train_x,test_x,train_y,test_y=train_test_split(x,y,test_size=0.2,random_state=False)\n",
    "     knn=KNeighborsClassifier(n_neighbors=5)\n",
    "     knn.fit(train_x,train_y)\n",
    "     acc_list_per_cluster[d].append(knn.score(test_x,test_y))\n",
    "     confusion_matrix_per_cluster[d].append(confusion_matrix(knn.predict(test_x),test_y))\n",
    "     rf=RandomForestClassifier()\n",
    "     rf.fit(train_x,train_y)\n",
    "     acc_list_per_cluster[d].append(rf.score(test_x,test_y))\n",
    "     confusion_matrix_per_cluster[d].append(confusion_matrix(rf.predict(test_x),test_y))\n"
   ]
  },
  {
   "cell_type": "code",
   "execution_count": 175,
   "metadata": {
    "colab": {
     "base_uri": "https://localhost:8080/",
     "height": 84
    },
    "colab_type": "code",
    "id": "yl7FSuSk3zb6",
    "outputId": "a48bb7c6-5cf0-412c-e389-cff0b727beed"
   },
   "outputs": [
    {
     "data": {
      "text/plain": [
       "{0: [0.5855855855855856, 0.6936936936936937],\n",
       " 1: [0.9512195121951219, 0.9634146341463414],\n",
       " 4: [0.9558823529411765, 0.9705882352941176],\n",
       " 5: [0.631578947368421, 0.8421052631578947]}"
      ]
     },
     "execution_count": 175,
     "metadata": {
      "tags": []
     },
     "output_type": "execute_result"
    }
   ],
   "source": [
    "acc_list_per_cluster"
   ]
  },
  {
   "cell_type": "code",
   "execution_count": 0,
   "metadata": {
    "colab": {},
    "colab_type": "code",
    "id": "lsH4ZOR946m6"
   },
   "outputs": [],
   "source": [
    "colors=['red','green','blue','cyan','cyan','orange']"
   ]
  },
  {
   "cell_type": "code",
   "execution_count": 168,
   "metadata": {
    "colab": {
     "base_uri": "https://localhost:8080/",
     "height": 281
    },
    "colab_type": "code",
    "id": "8ys6aDvk4GDA",
    "outputId": "4dbc6c25-83d3-408a-f4d9-c478cc706dcd"
   },
   "outputs": [
    {
     "data": {
      "image/png": "[encoded data removed]",
      "text/plain": [
       "<Figure size 432x288 with 4 Axes>"
      ]
     },
     "metadata": {
      "needs_background": "light",
      "tags": []
     },
     "output_type": "display_data"
    }
   ],
   "source": [
    "j=0\n",
    "for c in acc_list_per_cluster:\n",
    "  #print(j)\n",
    "  plt.subplot(2,2,j+1)\n",
    "  plt.bar(['KNN','RF'],acc_list_per_cluster[c],color=colors[j])\n",
    "  j+=1\n",
    "  plt.title('cluster'+str(c))"
   ]
  },
  {
   "cell_type": "markdown",
   "metadata": {
    "colab_type": "text",
    "id": "CK32L7qh89p4"
   },
   "source": [
    "For cluster 0 knn"
   ]
  },
  {
   "cell_type": "code",
   "execution_count": 178,
   "metadata": {
    "colab": {
     "base_uri": "https://localhost:8080/",
     "height": 282
    },
    "colab_type": "code",
    "id": "S6AvAVyb7o8W",
    "outputId": "cfa243f2-603c-49f0-d702-81e22e5ce61d"
   },
   "outputs": [
    {
     "data": {
      "text/plain": [
       "<matplotlib.axes._subplots.AxesSubplot at 0x7fc6b3a9db38>"
      ]
     },
     "execution_count": 178,
     "metadata": {
      "tags": []
     },
     "output_type": "execute_result"
    },
    {
     "data": {
      "image/png": "[encoded data removed]",
      "text/plain": [
       "<Figure size 432x288 with 2 Axes>"
      ]
     },
     "metadata": {
      "needs_background": "light",
      "tags": []
     },
     "output_type": "display_data"
    }
   ],
   "source": [
    "sns.heatmap(confusion_matrix_per_cluster[0][0],annot=True,fmt='d')"
   ]
  },
  {
   "cell_type": "markdown",
   "metadata": {
    "colab_type": "text",
    "id": "ZIfHFt1b9KCT"
   },
   "source": [
    "For cluster 0 rf"
   ]
  },
  {
   "cell_type": "code",
   "execution_count": 179,
   "metadata": {
    "colab": {
     "base_uri": "https://localhost:8080/",
     "height": 282
    },
    "colab_type": "code",
    "id": "Yk_DwxdM88Y_",
    "outputId": "b7212183-a8f8-4fd5-835f-c061ec0e3bac"
   },
   "outputs": [
    {
     "data": {
      "text/plain": [
       "<matplotlib.axes._subplots.AxesSubplot at 0x7fc6b5bbb400>"
      ]
     },
     "execution_count": 179,
     "metadata": {
      "tags": []
     },
     "output_type": "execute_result"
    },
    {
     "data": {
      "image/png": "[encoded data removed]",
      "text/plain": [
       "<Figure size 432x288 with 2 Axes>"
      ]
     },
     "metadata": {
      "needs_background": "light",
      "tags": []
     },
     "output_type": "display_data"
    }
   ],
   "source": [
    "sns.heatmap(confusion_matrix_per_cluster[0][1],annot=True,fmt='d')"
   ]
  },
  {
   "cell_type": "markdown",
   "metadata": {
    "colab_type": "text",
    "id": "fpCD_6-r9kOD"
   },
   "source": [
    "For cluster 5 rf"
   ]
  },
  {
   "cell_type": "code",
   "execution_count": 181,
   "metadata": {
    "colab": {
     "base_uri": "https://localhost:8080/",
     "height": 282
    },
    "colab_type": "code",
    "id": "v3ZdduL39RMe",
    "outputId": "94ed53e1-606b-4d56-8391-547f2a5e1ba7"
   },
   "outputs": [
    {
     "data": {
      "text/plain": [
       "<matplotlib.axes._subplots.AxesSubplot at 0x7fc6b2462780>"
      ]
     },
     "execution_count": 181,
     "metadata": {
      "tags": []
     },
     "output_type": "execute_result"
    },
    {
     "data": {
      "image/png": "[encoded data removed]",
      "text/plain": [
       "<Figure size 432x288 with 2 Axes>"
      ]
     },
     "metadata": {
      "needs_background": "light",
      "tags": []
     },
     "output_type": "display_data"
    }
   ],
   "source": [
    "sns.heatmap(confusion_matrix_per_cluster[5][1],annot=True,fmt='d')"
   ]
  },
  {
   "cell_type": "markdown",
   "metadata": {
    "colab_type": "text",
    "id": "uiihNyo39xoJ"
   },
   "source": [
    "For cluster 1 rf\n"
   ]
  },
  {
   "cell_type": "code",
   "execution_count": 182,
   "metadata": {
    "colab": {
     "base_uri": "https://localhost:8080/",
     "height": 282
    },
    "colab_type": "code",
    "id": "JILlZVaQ9pZZ",
    "outputId": "b10b3e6d-e432-4291-cdea-2e43c32dc76a"
   },
   "outputs": [
    {
     "data": {
      "text/plain": [
       "<matplotlib.axes._subplots.AxesSubplot at 0x7fc6b2424da0>"
      ]
     },
     "execution_count": 182,
     "metadata": {
      "tags": []
     },
     "output_type": "execute_result"
    },
    {
     "data": {
      "image/png": "[encoded data removed]",
      "text/plain": [
       "<Figure size 432x288 with 2 Axes>"
      ]
     },
     "metadata": {
      "needs_background": "light",
      "tags": []
     },
     "output_type": "display_data"
    }
   ],
   "source": [
    "sns.heatmap(confusion_matrix_per_cluster[1][1],annot=True,fmt='d')"
   ]
  },
  {
   "cell_type": "code",
   "execution_count": 0,
   "metadata": {
    "colab": {},
    "colab_type": "code",
    "id": "9uhGkgHF998l"
   },
   "outputs": [],
   "source": []
  }
 ],
 "metadata": {
  "accelerator": "GPU",
  "colab": {
   "collapsed_sections": [],
   "name": "Dynamic_auto_selection_final.ipynb",
   "provenance": []
  },
  "kernelspec": {
   "display_name": "Python 3",
   "language": "python",
   "name": "python3"
  },
  "language_info": {
   "codemirror_mode": {
    "name": "ipython",
    "version": 3
   },
   "file_extension": ".py",
   "mimetype": "text/x-python",
   "name": "python",
   "nbconvert_exporter": "python",
   "pygments_lexer": "ipython3",
   "version": "3.7.6"
  }
 },
 "nbformat": 4,
 "nbformat_minor": 1
}
